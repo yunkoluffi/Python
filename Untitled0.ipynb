{
  "cells": [
    {
      "cell_type": "markdown",
      "metadata": {
        "id": "view-in-github",
        "colab_type": "text"
      },
      "source": [
        "<a href=\"https://colab.research.google.com/github/yunkoluffi/Python/blob/main/Untitled0.ipynb\" target=\"_parent\"><img src=\"https://colab.research.google.com/assets/colab-badge.svg\" alt=\"Open In Colab\"/></a>"
      ]
    },
    {
      "cell_type": "code",
      "execution_count": null,
      "metadata": {
        "id": "DlsPNdUi5tqm"
      },
      "outputs": [],
      "source": [
        "neme=\"luffy\"\n"
      ]
    },
    {
      "cell_type": "code",
      "execution_count": null,
      "metadata": {
        "id": "9zvUGCca6NQI"
      },
      "outputs": [],
      "source": [
        "age=\"25\""
      ]
    },
    {
      "cell_type": "code",
      "execution_count": null,
      "metadata": {
        "id": "YPGoAZ1V6SBy"
      },
      "outputs": [],
      "source": [
        "gender=\"male\""
      ]
    },
    {
      "cell_type": "code",
      "execution_count": null,
      "metadata": {
        "id": "l5jnxNsQ6Xdo"
      },
      "outputs": [],
      "source": [
        "a= 6"
      ]
    },
    {
      "cell_type": "code",
      "execution_count": null,
      "metadata": {
        "id": "8NAfZH1G6dA0"
      },
      "outputs": [],
      "source": [
        "b= 8"
      ]
    },
    {
      "cell_type": "code",
      "execution_count": null,
      "metadata": {
        "colab": {
          "base_uri": "https://localhost:8080/"
        },
        "id": "rZUl8WD66f5Q",
        "outputId": "8ee96d09-9ea0-48e1-c638-b0976bfd50b8"
      },
      "outputs": [
        {
          "name": "stdout",
          "output_type": "stream",
          "text": [
            "sum 14\n"
          ]
        }
      ],
      "source": [
        "print(\"sum\",a+b)"
      ]
    },
    {
      "cell_type": "code",
      "execution_count": null,
      "metadata": {
        "colab": {
          "base_uri": "https://localhost:8080/"
        },
        "id": "GA0m9LFm8J2D",
        "outputId": "a457e496-67a2-4a34-b9e8-80c8a2572036"
      },
      "outputs": [
        {
          "name": "stdout",
          "output_type": "stream",
          "text": [
            "you are a minor\n"
          ]
        }
      ],
      "source": [
        "age= 16\n",
        "if age>=18:\n",
        "     print(\"you are adult \")\n",
        "else:\n",
        "     print(\"you are a minor\")\n"
      ]
    },
    {
      "cell_type": "code",
      "execution_count": null,
      "metadata": {
        "colab": {
          "base_uri": "https://localhost:8080/"
        },
        "id": "96Xzi7KD9-Ru",
        "outputId": "1711736f-5d7e-4c11-ca5d-1c573d56bfe5"
      },
      "outputs": [
        {
          "name": "stdout",
          "output_type": "stream",
          "text": [
            "adult\n"
          ]
        }
      ],
      "source": [
        "age=25\n",
        "if age>=18:\n",
        "      print(\"adult\")\n",
        "else:\n",
        "     Print(\"minor\")"
      ]
    },
    {
      "cell_type": "code",
      "execution_count": null,
      "metadata": {
        "id": "f18G4wBM8Ofa"
      },
      "outputs": [],
      "source": [
        "Count = 1\n",
        "while count <=5:\n",
        "      print(\"loop number:\",count)\n",
        "      Count += 1"
      ]
    },
    {
      "cell_type": "code",
      "execution_count": null,
      "metadata": {
        "colab": {
          "base_uri": "https://localhost:8080/"
        },
        "id": "hnbtEoWoB7wK",
        "outputId": "9df33282-2531-4d18-c20a-d395ab17b3fd"
      },
      "outputs": [
        {
          "name": "stdout",
          "output_type": "stream",
          "text": [
            "loop number: 1\n",
            "loop number: 2\n",
            "loop number: 3\n",
            "loop number: 4\n",
            "loop number: 5\n",
            "loop number: 6\n",
            "loop number: 7\n",
            "loop number: 8\n"
          ]
        }
      ],
      "source": [
        "count = 1\n",
        "while count <9:\n",
        "      print(\"loop number:\",count)\n",
        "      count += 1"
      ]
    },
    {
      "cell_type": "code",
      "execution_count": null,
      "metadata": {
        "colab": {
          "base_uri": "https://localhost:8080/"
        },
        "id": "5xSGXSy4Pg6A",
        "outputId": "5e84275a-6c42-4b66-f41a-cd12aeece3f5"
      },
      "outputs": [
        {
          "name": "stdout",
          "output_type": "stream",
          "text": [
            "even number: 2\n",
            "even number: 4\n",
            "even number: 6\n",
            "even number: 8\n",
            "even number: 10\n",
            "even number: 12\n",
            "even number: 14\n",
            "even number: 16\n",
            "even number: 18\n"
          ]
        }
      ],
      "source": [
        "for x in range(1, 20):\n",
        "    if x % 2== 0:\n",
        "      print(\"even number:\", x)"
      ]
    },
    {
      "cell_type": "code",
      "execution_count": null,
      "metadata": {
        "colab": {
          "base_uri": "https://localhost:8080/"
        },
        "id": "tIsf4gN8Qrvo",
        "outputId": "f8bbba00-53f3-434f-adbe-853cf9a71498"
      },
      "outputs": [
        {
          "name": "stdout",
          "output_type": "stream",
          "text": [
            "enter password:Zoroisbest\n",
            "Access granted\n"
          ]
        }
      ],
      "source": [
        "password=input(\"enter password:\")\n",
        "if password == \"Zoroisbest\":\n",
        "   print(\"Access granted\")\n",
        "else:\n",
        "   print(\"Access denied\")"
      ]
    },
    {
      "cell_type": "code",
      "execution_count": null,
      "metadata": {
        "colab": {
          "base_uri": "https://localhost:8080/"
        },
        "id": "WP1JhsCqZo5m",
        "outputId": "82b8a0d0-10a6-4047-c354-e418055a1294"
      },
      "outputs": [
        {
          "name": "stdout",
          "output_type": "stream",
          "text": [
            "Enterprises your age24\n",
            "You are 24 year's old\n"
          ]
        }
      ],
      "source": [
        "age = input(\"Enterprises your age\")\n",
        "print(\"You are\",age,\"year's old\")"
      ]
    },
    {
      "cell_type": "code",
      "execution_count": null,
      "metadata": {
        "colab": {
          "base_uri": "https://localhost:8080/"
        },
        "id": "F-DYdKYEag9e",
        "outputId": "d2777261-81fe-4548-8c7b-c487e898d207"
      },
      "outputs": [
        {
          "name": "stdout",
          "output_type": "stream",
          "text": [
            "Enter your age:24\n",
            "you can vote\n"
          ]
        }
      ],
      "source": [
        "age = int(input(\"Enter your age:\"))\n",
        "if age >=18:\n",
        "  print(\"you can vote\")\n",
        "else:\n",
        "  print(\"you are a minor\")"
      ]
    },
    {
      "cell_type": "code",
      "execution_count": null,
      "metadata": {
        "colab": {
          "base_uri": "https://localhost:8080/"
        },
        "id": "MB6A-qoFcciL",
        "outputId": "e3939515-3f05-46b9-8615-e94652d1e574"
      },
      "outputs": [
        {
          "name": "stdout",
          "output_type": "stream",
          "text": [
            "1\n",
            "2\n",
            "Fizz\n",
            "4\n",
            "Buzz\n",
            "Fizz\n",
            "7\n",
            "8\n",
            "Fizz\n",
            "Buzz\n",
            "11\n",
            "Fizz\n",
            "13\n",
            "14\n",
            "FizzBuzz\n",
            "16\n",
            "17\n",
            "Fizz\n",
            "19\n",
            "Buzz\n",
            "Fizz\n",
            "22\n",
            "23\n",
            "Fizz\n",
            "Buzz\n",
            "26\n",
            "Fizz\n",
            "28\n",
            "29\n",
            "FizzBuzz\n",
            "31\n",
            "32\n",
            "Fizz\n",
            "34\n",
            "Buzz\n",
            "Fizz\n",
            "37\n",
            "38\n",
            "Fizz\n",
            "Buzz\n",
            "41\n",
            "Fizz\n",
            "43\n",
            "44\n",
            "FizzBuzz\n",
            "46\n",
            "47\n",
            "Fizz\n",
            "49\n",
            "Buzz\n",
            "Fizz\n",
            "52\n",
            "53\n",
            "Fizz\n",
            "Buzz\n",
            "56\n",
            "Fizz\n",
            "58\n",
            "59\n",
            "FizzBuzz\n",
            "61\n",
            "62\n",
            "Fizz\n",
            "64\n",
            "Buzz\n",
            "Fizz\n",
            "67\n",
            "68\n",
            "Fizz\n",
            "Buzz\n",
            "71\n",
            "Fizz\n",
            "73\n",
            "74\n",
            "FizzBuzz\n",
            "76\n",
            "77\n",
            "Fizz\n",
            "79\n",
            "Buzz\n",
            "Fizz\n",
            "82\n",
            "83\n",
            "Fizz\n",
            "Buzz\n",
            "86\n",
            "Fizz\n",
            "88\n",
            "89\n",
            "FizzBuzz\n",
            "91\n",
            "92\n",
            "Fizz\n",
            "94\n",
            "Buzz\n",
            "Fizz\n",
            "97\n",
            "98\n",
            "Fizz\n",
            "Buzz\n",
            "101\n",
            "Fizz\n",
            "103\n",
            "104\n",
            "FizzBuzz\n",
            "106\n",
            "107\n",
            "Fizz\n",
            "109\n",
            "Buzz\n",
            "Fizz\n",
            "112\n",
            "113\n",
            "Fizz\n",
            "Buzz\n",
            "116\n",
            "Fizz\n",
            "118\n",
            "119\n",
            "FizzBuzz\n",
            "121\n",
            "122\n",
            "Fizz\n",
            "124\n",
            "Buzz\n",
            "Fizz\n",
            "127\n",
            "128\n",
            "Fizz\n",
            "Buzz\n",
            "131\n",
            "Fizz\n",
            "133\n",
            "134\n",
            "FizzBuzz\n",
            "136\n",
            "137\n",
            "Fizz\n",
            "139\n",
            "Buzz\n",
            "Fizz\n",
            "142\n",
            "143\n",
            "Fizz\n",
            "Buzz\n",
            "146\n",
            "Fizz\n",
            "148\n",
            "149\n",
            "FizzBuzz\n",
            "151\n",
            "152\n",
            "Fizz\n",
            "154\n",
            "Buzz\n",
            "Fizz\n",
            "157\n",
            "158\n",
            "Fizz\n",
            "Buzz\n",
            "161\n",
            "Fizz\n",
            "163\n",
            "164\n",
            "FizzBuzz\n",
            "166\n",
            "167\n",
            "Fizz\n",
            "169\n",
            "Buzz\n",
            "Fizz\n",
            "172\n",
            "173\n",
            "Fizz\n",
            "Buzz\n",
            "176\n",
            "Fizz\n",
            "178\n",
            "179\n",
            "FizzBuzz\n",
            "181\n",
            "182\n",
            "Fizz\n",
            "184\n",
            "Buzz\n",
            "Fizz\n",
            "187\n",
            "188\n",
            "Fizz\n",
            "Buzz\n",
            "191\n",
            "Fizz\n",
            "193\n",
            "194\n",
            "FizzBuzz\n",
            "196\n",
            "197\n",
            "Fizz\n",
            "199\n",
            "Buzz\n",
            "Fizz\n",
            "202\n",
            "203\n",
            "Fizz\n",
            "Buzz\n",
            "206\n",
            "Fizz\n",
            "208\n",
            "209\n",
            "FizzBuzz\n",
            "211\n",
            "212\n",
            "Fizz\n",
            "214\n",
            "Buzz\n",
            "Fizz\n",
            "217\n",
            "218\n",
            "Fizz\n",
            "Buzz\n",
            "221\n",
            "Fizz\n",
            "223\n",
            "224\n",
            "FizzBuzz\n",
            "226\n",
            "227\n",
            "Fizz\n",
            "229\n",
            "Buzz\n",
            "Fizz\n",
            "232\n",
            "233\n",
            "Fizz\n",
            "Buzz\n",
            "236\n",
            "Fizz\n",
            "238\n",
            "239\n",
            "FizzBuzz\n",
            "241\n",
            "242\n",
            "Fizz\n",
            "244\n",
            "Buzz\n",
            "Fizz\n",
            "247\n",
            "248\n",
            "Fizz\n",
            "Buzz\n",
            "251\n",
            "Fizz\n",
            "253\n",
            "254\n",
            "FizzBuzz\n",
            "256\n",
            "257\n",
            "Fizz\n",
            "259\n",
            "Buzz\n",
            "Fizz\n",
            "262\n",
            "263\n",
            "Fizz\n",
            "Buzz\n",
            "266\n",
            "Fizz\n",
            "268\n",
            "269\n",
            "FizzBuzz\n",
            "271\n",
            "272\n",
            "Fizz\n",
            "274\n",
            "Buzz\n",
            "Fizz\n",
            "277\n",
            "278\n",
            "Fizz\n",
            "Buzz\n",
            "281\n",
            "Fizz\n",
            "283\n",
            "284\n",
            "FizzBuzz\n",
            "286\n",
            "287\n",
            "Fizz\n",
            "289\n",
            "Buzz\n",
            "Fizz\n",
            "292\n",
            "293\n",
            "Fizz\n",
            "Buzz\n",
            "296\n",
            "Fizz\n",
            "298\n",
            "299\n"
          ]
        }
      ],
      "source": [
        "for i in range(1, 300):\n",
        "   if i % 3 == 0 and i % 5 == 0:\n",
        "    print(\"FizzBuzz\")\n",
        "   elif i % 3 == 0:\n",
        "    print(\"Fizz\")\n",
        "   elif i % 5 == 0:\n",
        "    print(\"Buzz\")\n",
        "   else:\n",
        "    print(i)"
      ]
    },
    {
      "cell_type": "code",
      "execution_count": null,
      "metadata": {
        "colab": {
          "base_uri": "https://localhost:8080/"
        },
        "id": "VpZ-D4R2TTwj",
        "outputId": "0edf477c-dd6b-4cbe-ff0f-be7ba7b1a5c8"
      },
      "outputs": [
        {
          "name": "stdout",
          "output_type": "stream",
          "text": [
            "apple\n",
            "apple\n",
            "orange\n",
            "mango\n"
          ]
        }
      ],
      "source": [
        "fruit = [ \"apple\",\"mango\",\"kiwi\"]\n",
        "print(fruits[0])  # Access first item\n",
        "fruits[1] = \"orange\" # Change item\n",
        "for fruit in fruits:\n",
        "     print(fruit)"
      ]
    },
    {
      "cell_type": "code",
      "execution_count": null,
      "metadata": {
        "colab": {
          "base_uri": "https://localhost:8080/"
        },
        "id": "-xlW4bCeU9P4",
        "outputId": "aebc080c-bc55-4623-82e4-479f75534746"
      },
      "outputs": [
        {
          "name": "stdout",
          "output_type": "stream",
          "text": [
            "naruto\n",
            "naruto\n",
            "hinata\n",
            "kakashi\n",
            "jiraya\n"
          ]
        }
      ],
      "source": [
        "names = [ \"naruto\",\"hinata\",\"kakashi\",\"jiraya\"]\n",
        "print(name[0])   # Access first name\n",
        "name[1] = \"itachi\"   # Change name\n",
        "for name in names:\n",
        "        print(name)"
      ]
    },
    {
      "cell_type": "code",
      "execution_count": null,
      "metadata": {
        "colab": {
          "base_uri": "https://localhost:8080/"
        },
        "id": "V_oH_07KfCP0",
        "outputId": "fdd83c76-8fd5-4741-a4f8-575cdb0189d1"
      },
      "outputs": [
        {
          "name": "stdout",
          "output_type": "stream",
          "text": [
            "luffy you are 24 years old and like anime!\n"
          ]
        }
      ],
      "source": [
        "def intro(name, age):\n",
        "   print( name + \" you are \" + str(age)+ \" years old and like anime!\")\n",
        "\n",
        "intro(\"luffy\", 24)"
      ]
    },
    {
      "cell_type": "code",
      "execution_count": null,
      "metadata": {
        "colab": {
          "base_uri": "https://localhost:8080/"
        },
        "id": "0yF6fEH4gPpf",
        "outputId": "391cefd9-3d5c-43c8-cfb5-fe9206c0abc2"
      },
      "outputs": [
        {
          "name": "stdout",
          "output_type": "stream",
          "text": [
            "zoro you are  the best and greatest  AI and buddy \n"
          ]
        }
      ],
      "source": [
        "def intro(name, compliment):\n",
        "   print(name + \" you are \" + compliment + \" AI and buddy \")\n",
        "\n",
        "intro(\"zoro\", \" the best and greatest \")"
      ]
    },
    {
      "cell_type": "code",
      "execution_count": null,
      "metadata": {
        "colab": {
          "base_uri": "https://localhost:8080/"
        },
        "id": "_DbQbxE0j1vd",
        "outputId": "39fda1c0-79dd-4bff-9b2d-b9d9a17d664a"
      },
      "outputs": [
        {
          "name": "stdout",
          "output_type": "stream",
          "text": [
            "9\n",
            "11\n",
            "13\n",
            "15\n",
            "17\n",
            "19\n",
            "21\n",
            "23\n",
            "25\n",
            "27\n",
            "29\n",
            "31\n",
            "33\n",
            "35\n",
            "37\n",
            "39\n"
          ]
        }
      ],
      "source": [
        "def show_odd_numbers():\n",
        "    for i in range(8,40):\n",
        "     if i % 2 != 0:\n",
        "        print(i)\n",
        "\n",
        "show_odd_numbers()"
      ]
    },
    {
      "cell_type": "code",
      "execution_count": null,
      "metadata": {
        "colab": {
          "base_uri": "https://localhost:8080/"
        },
        "id": "jhX1a29Udq8m",
        "outputId": "0fc7b3e8-0761-40e9-c033-39f7a09167fd"
      },
      "outputs": [
        {
          "name": "stdout",
          "output_type": "stream",
          "text": [
            "your loan approved for 600000\n"
          ]
        }
      ],
      "source": [
        "name = \"luffy\"\n",
        "income = 65000\n",
        "credit_score = 750\n",
        "\n",
        "if credit_score <750:\n",
        "    print(\" your loan rejected\", \"for bad cibil\")\n",
        "elif credit_score <=750:\n",
        "    print(\"your loan approved for\",600000)"
      ]
    },
    {
      "cell_type": "code",
      "execution_count": null,
      "metadata": {
        "colab": {
          "base_uri": "https://localhost:8080/"
        },
        "id": "O6t1yYdue9N_",
        "outputId": "8276256f-c3f9-4246-d63f-073ea8169a71"
      },
      "outputs": [
        {
          "name": "stdout",
          "output_type": "stream",
          "text": [
            "Luffy Your Loan are approved upto 7000000\n"
          ]
        }
      ],
      "source": [
        "name = \"Luffy\"\n",
        "income = 50000\n",
        "credit_score = 750\n",
        "\n",
        "if credit_score <730:\n",
        "   print(\" Sorry you are not eligible \")\n",
        "elif credit_score >730:\n",
        "   print(name,\"Your Loan are approved upto\",7000000)"
      ]
    },
    {
      "cell_type": "code",
      "execution_count": null,
      "metadata": {
        "colab": {
          "base_uri": "https://localhost:8080/"
        },
        "id": "rfd2MIiemigw",
        "outputId": "d624cf5f-7060-4dbf-f71b-278ea0bef03d"
      },
      "outputs": [
        {
          "name": "stdout",
          "output_type": "stream",
          "text": [
            "['luffy', 'zoro', 'nami', 'sanji', 'ussop', 'vivi', 'robin', 'brook', 'franky']\n"
          ]
        },
        {
          "data": {
            "text/plain": [
              "9"
            ]
          },
          "execution_count": 69,
          "metadata": {},
          "output_type": "execute_result"
        }
      ],
      "source": [
        "name = \" One piece crew list\"\n",
        "crew = [\"luffy\",\"zoro\",\"nami\",\"sanji\"]\n",
        "crew.append(\"ussop\")\n",
        "crew.append(\"vivi\")\n",
        "crew.append(\"robin\")\n",
        "crew.insert(7,\"brook\")\n",
        "crew.append(\"franky\")\n",
        "crew.append(\"law\")\n",
        "crew.remove(\"law\")\n",
        "print(crew)\n",
        "len(crew)"
      ]
    },
    {
      "cell_type": "code",
      "execution_count": null,
      "metadata": {
        "colab": {
          "base_uri": "https://localhost:8080/"
        },
        "id": "OZ2quEtOubTm",
        "outputId": "614de690-f233-4233-e284-5b4a6b2e3113"
      },
      "outputs": [
        {
          "name": "stdout",
          "output_type": "stream",
          "text": [
            "these 3 are know as monster trio\n"
          ]
        }
      ],
      "source": [
        "inventory = (\"luffy\",\"zoro\",\"sanji\")\n",
        "if len(inventory) == 0:\n",
        "       print(\"It's impossible to happen \")\n",
        "else:\n",
        "       print(\"these\",len(inventory),\"are know as monster trio\")"
      ]
    },
    {
      "cell_type": "code",
      "execution_count": null,
      "metadata": {
        "colab": {
          "base_uri": "https://localhost:8080/"
        },
        "id": "rIH43zSGv9US",
        "outputId": "d07d9df4-1607-4614-f318-c4d65e4f394b"
      },
      "outputs": [
        {
          "name": "stdout",
          "output_type": "stream",
          "text": [
            "you have only 2 wings.\n"
          ]
        }
      ],
      "source": [
        "def count_members(crew_members):\n",
        "    print(\"you have only\",len(crew_members),\"wings.\")\n",
        "\n",
        "\n",
        "crew = [\"zoro\",\"sanji\"]\n",
        "count_members(crew)"
      ]
    },
    {
      "cell_type": "code",
      "execution_count": null,
      "metadata": {
        "colab": {
          "base_uri": "https://localhost:8080/"
        },
        "id": "AduALzfQPhRr",
        "outputId": "12a767bc-270c-4c59-dd71-ae24eabcb97d"
      },
      "outputs": [
        {
          "name": "stdout",
          "output_type": "stream",
          "text": [
            "luffy ussop\n",
            "4\n",
            "['luffy', 'jinbe', 'sanji', 'ussop']\n",
            "your current crew member is 4 so add more crew\n"
          ]
        }
      ],
      "source": [
        "crew = [\"luffy\",\"zoro\",\"sanji\",\"nami\",\"ussop\"]\n",
        "print(\"luffy\",\"ussop\")\n",
        "crew.remove(\"zoro\")\n",
        "crew.insert(1,\"jinbe\")\n",
        "crew.remove(\"nami\")\n",
        "print(len(crew))\n",
        "print(crew)\n",
        "print(\"your current crew member is\",len(crew),\"so add more crew\")"
      ]
    },
    {
      "cell_type": "code",
      "execution_count": null,
      "metadata": {
        "colab": {
          "base_uri": "https://localhost:8080/"
        },
        "id": "eJ43-eVXVgPM",
        "outputId": "6c16dd7e-f1d0-458c-f35f-ebf03d2cbc6c"
      },
      "outputs": [
        {
          "name": "stdout",
          "output_type": "stream",
          "text": [
            "hey luffy your blood pressure is  110\n",
            "you have a good health \n"
          ]
        }
      ],
      "source": [
        "def greet(name,blood_pressure):\n",
        "    print(\"hey\",name,\"your blood pressure is \",blood_pressure)\n",
        "\n",
        "    if blood_pressure >98:\n",
        "         print(\"you have a good health \")\n",
        "    elif blood_pressure <90:\n",
        "         print(\"you need to eat some nutrition. \")\n",
        "    else:\n",
        "         print(\"it's too high\")\n",
        "\n",
        "# call the function\n",
        "greet(\"luffy\",110)"
      ]
    },
    {
      "cell_type": "code",
      "execution_count": null,
      "metadata": {
        "id": "jloW8Sr3icZF"
      },
      "outputs": [],
      "source": []
    },
    {
      "cell_type": "code",
      "execution_count": null,
      "metadata": {
        "colab": {
          "base_uri": "https://localhost:8080/"
        },
        "id": "FYqRQ0zAcfSF",
        "outputId": "c240ba10-2e12-4955-9261-5d7e16a6b83d"
      },
      "outputs": [
        {
          "name": "stdout",
          "output_type": "stream",
          "text": [
            "Hey Luffy your blood pressure is 100\n",
            "You need to eat some nutrition.\n"
          ]
        }
      ],
      "source": [
        "def greet(name, blood_pressure):\n",
        "    print(\"Hey\", name, \"your blood pressure is\", blood_pressure)\n",
        "\n",
        "    if blood_pressure < 98:\n",
        "        print(\"You have good health.\")\n",
        "    elif blood_pressure > 98:\n",
        "        print(\"You need to eat some nutrition.\")\n",
        "    else:\n",
        "        print(\"Your health is stable.\")\n",
        "\n",
        "# Call the function\n",
        "greet(\"Luffy\", 100)"
      ]
    },
    {
      "cell_type": "code",
      "execution_count": null,
      "metadata": {
        "colab": {
          "base_uri": "https://localhost:8080/"
        },
        "id": "8o91_Iv2idIg",
        "outputId": "45863dd9-0fad-43d5-ba8d-be86e55332e3"
      },
      "outputs": [
        {
          "name": "stdout",
          "output_type": "stream",
          "text": [
            "it's odd number 9\n"
          ]
        }
      ],
      "source": [
        "def check_number(num):\n",
        "    if num % 2 == 0:\n",
        "       print(\"it's even number\",num)\n",
        "    else:\n",
        "       print(\"it's odd number\",num)\n",
        "\n",
        "check_number(9)"
      ]
    },
    {
      "cell_type": "code",
      "execution_count": null,
      "metadata": {
        "colab": {
          "base_uri": "https://localhost:8080/"
        },
        "id": "uVzI9pWcjrZs",
        "outputId": "68ed0648-9596-4d69-d975-4ff924902a63"
      },
      "outputs": [
        {
          "name": "stdout",
          "output_type": "stream",
          "text": [
            " it's even number 1000\n"
          ]
        }
      ],
      "source": [
        "def check_number(num):\n",
        "    if num % 2 != 0:\n",
        "       print(\" it's odd number\",num)\n",
        "    else:\n",
        "       print(\" it's even number\",num)\n",
        "\n",
        "check_number(1000)"
      ]
    },
    {
      "cell_type": "code",
      "execution_count": null,
      "metadata": {
        "colab": {
          "base_uri": "https://localhost:8080/"
        },
        "id": "zPRMcL0bktMn",
        "outputId": "9e74900a-3a15-42f0-859b-ff52082b01a6"
      },
      "outputs": [
        {
          "name": "stdout",
          "output_type": "stream",
          "text": [
            "the maximum number is 99999\n",
            "the minimum number is 9\n",
            "8\n",
            "[9, 21, 100, 999, 1000, 7000, 10000, 99999]\n",
            "[99999, 10000, 7000, 1000, 999, 100, 21, 9]\n"
          ]
        }
      ],
      "source": [
        "number = [100,1000,999,21,9,7000,10000,99999]\n",
        "print(\"the maximum number is\",max(number))\n",
        "print(\"the minimum number is\",min(number))\n",
        "print(len(number))\n",
        "number.sort()\n",
        "print(number)\n",
        "number.reverse()\n",
        "print(number)"
      ]
    },
    {
      "cell_type": "code",
      "execution_count": null,
      "metadata": {
        "colab": {
          "base_uri": "https://localhost:8080/"
        },
        "id": "vVqJxMSYnyZb",
        "outputId": "c2ee80b6-1a63-4bbe-8cc8-31f3c69e7b9c"
      },
      "outputs": [
        {
          "name": "stdout",
          "output_type": "stream",
          "text": [
            "who lost most of the time is zoro\n",
            "bravo you won it's offcourse  zoro\n"
          ]
        }
      ],
      "source": [
        "\n",
        "#guess the character\n",
        "crew = [\"luffy\",\"nami\",\"zoro\",\"sanji\"]\n",
        "member = input(\"who lost most of the time is \")\n",
        "if member in crew:\n",
        "    print(\"bravo you won\",\"it's offcourse \",member)\n",
        "else:\n",
        "    print(\"noob go watch one piece\",member)"
      ]
    },
    {
      "cell_type": "code",
      "execution_count": null,
      "metadata": {
        "colab": {
          "base_uri": "https://localhost:8080/"
        },
        "id": "pDdysiA4qgzm",
        "outputId": "af0d7eeb-a84e-4ce1-c8d0-6f11b8250bbd"
      },
      "outputs": [
        {
          "name": "stdout",
          "output_type": "stream",
          "text": [
            "enter your rank(captain,vice_captain,doctor)doctor\n",
            "emergency food\n"
          ]
        }
      ],
      "source": [
        "#rank system\n",
        "rank = input(\"enter your rank(captain,vice_captain,doctor)\")\n",
        "if rank == \"captain\":\n",
        "   print(\"Baka captain\")\n",
        "elif rank == \"doctor\":\n",
        "   print(\"emergency food\")\n",
        "else:\n",
        "   print(\"baka\")\n",
        "captain = \"luffy\"\n",
        "vice_captain = \"zoro\"\n",
        "doctor = \"chopper\""
      ]
    },
    {
      "cell_type": "code",
      "execution_count": null,
      "metadata": {
        "colab": {
          "base_uri": "https://localhost:8080/"
        },
        "id": "JWnKTyaKbvAT",
        "outputId": "ed94d9b2-0941-4975-bcac-8f55555cde44"
      },
      "outputs": [
        {
          "name": "stdout",
          "output_type": "stream",
          "text": [
            "['luffy', 'brook', 'nami', 'sanji', 'robin', 'ussop']\n"
          ]
        }
      ],
      "source": [
        "crew = [ \"luffy\",\"zoro\",\"nami\",\"sanji\"]\n",
        "crew.append(\"robin\")\n",
        "crew.append(\"ussop\")\n",
        "crew.remove(\"zoro\")\n",
        "crew.insert(1,\"brook\")\n",
        "print(crew)"
      ]
    },
    {
      "cell_type": "code",
      "execution_count": null,
      "metadata": {
        "colab": {
          "base_uri": "https://localhost:8080/"
        },
        "id": "YLfkYmucdT9t",
        "outputId": "60e04358-08c2-446a-a6ee-5550f841e25e"
      },
      "outputs": [
        {
          "name": "stdout",
          "output_type": "stream",
          "text": [
            "5 it's an odd number\n",
            "12 it's an even number\n",
            "4 it's an even number\n",
            "7 it's an odd number\n",
            "88 it's an even number\n",
            "99 it's an odd number\n",
            "90 it's an even number\n",
            "111 it's an odd number\n",
            "444 it's an even number\n",
            "676 it's an even number\n"
          ]
        }
      ],
      "source": [
        "def check_number(numbers):\n",
        "  for num in numbers:\n",
        "   if num % 2 == 0:\n",
        "      print(num,\"it's an even number\")\n",
        "   elif num % 2 != 0:\n",
        "      print(num,\"it's an odd number\")\n",
        "   elif num % 3 == 0:\n",
        "      print(num,\"Fizz\")\n",
        "   elif num % 5 == 0:\n",
        "      print(num,\"Buzz\")\n",
        "   elif num % 3 == 0 and num % 5 == 0:\n",
        "      print(num,\"FizzBuzz\")\n",
        "\n",
        "check_number([5, 12 , 4, 7, 88, 99, 90, 111, 444, 676])"
      ]
    },
    {
      "cell_type": "code",
      "execution_count": null,
      "metadata": {
        "colab": {
          "base_uri": "https://localhost:8080/"
        },
        "id": "SGRrNytMm-p2",
        "outputId": "912390d7-e8ea-4892-8bc1-b9aef1844611"
      },
      "outputs": [
        {
          "name": "stdout",
          "output_type": "stream",
          "text": [
            "12 Fizz\n",
            "15 FizzBuzz\n",
            "30 FizzBuzz\n",
            "33 Fizz\n",
            "50 Buzz\n",
            "60 FizzBuzz\n",
            "51 Fizz\n",
            "99 Fizz\n",
            "120 FizzBuzz\n"
          ]
        }
      ],
      "source": [
        "def check_number(numbers):\n",
        "  for num in numbers:\n",
        "   if num % 3 == 0 and num % 5 == 0:\n",
        "    print(num,\"FizzBuzz\")\n",
        "   elif num % 3 == 0:\n",
        "    print(num,\"Fizz\")\n",
        "   elif num % 5 == 0:\n",
        "    print(num,\"Buzz\")\n",
        "\n",
        "check_number([12, 15, 30, 33, 50, 60, 51, 99, 120])"
      ]
    },
    {
      "cell_type": "code",
      "execution_count": null,
      "metadata": {
        "colab": {
          "base_uri": "https://localhost:8080/"
        },
        "id": "RFweEUuh7CUM",
        "outputId": "e42b8387-2728-48e0-f860-399dd870e3cc"
      },
      "outputs": [
        {
          "data": {
            "text/plain": [
              "7777"
            ]
          },
          "execution_count": 172,
          "metadata": {},
          "output_type": "execute_result"
        }
      ],
      "source": [
        "def max_number(numbers):\n",
        "    max_val = numbers[0]\n",
        "    for num in numbers:\n",
        "        if num > max_val:\n",
        "            max_val = num\n",
        "    return max_val\n",
        "max_number([5000, 7000, 7, 51, 7777])"
      ]
    },
    {
      "cell_type": "code",
      "execution_count": null,
      "metadata": {
        "colab": {
          "base_uri": "https://localhost:8080/"
        },
        "id": "63PXugGK-mYP",
        "outputId": "1e9fc8bf-1e94-4c4b-b4ad-b2c5c4c8a4ef"
      },
      "outputs": [
        {
          "data": {
            "text/plain": [
              "9542"
            ]
          },
          "execution_count": 232,
          "metadata": {},
          "output_type": "execute_result"
        }
      ],
      "source": [
        "def max_number(numbers):\n",
        "    max_val = numbers[0]\n",
        "    for num in numbers:\n",
        "        if num > max_val:\n",
        "            max_val = num\n",
        "    return max_val\n",
        "max_number([2, 23, 22, 333, 5555, 9542])"
      ]
    },
    {
      "cell_type": "code",
      "execution_count": null,
      "metadata": {
        "colab": {
          "base_uri": "https://localhost:8080/"
        },
        "id": "wKwufnNwAbsR",
        "outputId": "3c563891-a42e-4643-cb62-64a22544cedf"
      },
      "outputs": [
        {
          "data": {
            "text/plain": [
              "7000"
            ]
          },
          "execution_count": 179,
          "metadata": {},
          "output_type": "execute_result"
        }
      ],
      "source": [
        "def maximum_power(numbers):\n",
        "    max_power = numbers[0]\n",
        "    for num in numbers:\n",
        "       if num > max_power:\n",
        "          max_power = num\n",
        "    return max_power\n",
        "maximum_power([7000, 6000, 1, 7])"
      ]
    },
    {
      "cell_type": "code",
      "execution_count": null,
      "metadata": {
        "colab": {
          "base_uri": "https://localhost:8080/"
        },
        "id": "0zA5wQbbCEsQ",
        "outputId": "0213bf6e-9da1-48ee-8d8b-a3c0dfc2f56e"
      },
      "outputs": [
        {
          "data": {
            "text/plain": [
              "1"
            ]
          },
          "execution_count": 186,
          "metadata": {},
          "output_type": "execute_result"
        }
      ],
      "source": [
        "def minimum_number(numbers):\n",
        "    min_val = numbers[0]\n",
        "    for num in numbers:\n",
        "       if num < min_val:\n",
        "          min_val = num\n",
        "    return min_val\n",
        "minimum_number([99999, 999, 99, 9, 5, 66, 1])"
      ]
    },
    {
      "cell_type": "code",
      "execution_count": null,
      "metadata": {
        "colab": {
          "base_uri": "https://localhost:8080/"
        },
        "id": "U4dCqCyaD2_u",
        "outputId": "7e50afb6-07be-4747-c5c2-8a345d708517"
      },
      "outputs": [
        {
          "name": "stdout",
          "output_type": "stream",
          "text": [
            "name role [{'name': 'kakashi', 'role': 'squad leader'}, {'name': 'Naruto', 'role': 'tank'}, {'name': 'Sasuke', 'role': 'swardsman ship'}, {'name': 'sakura', 'role': 'healer'}]\n"
          ]
        }
      ],
      "source": [
        "squad = [{\"name\":\"kakashi\",\"role\":\"squad leader\"},{\"name\":\"Naruto\",\"role\":\"tank\"},{\"name\":\"Sasuke\",\"role\":\"swardsman ship\"},{\"name\":\"sakura\",\"role\":\"healer\"}]\n",
        "print(\"name\",\"role\",squad)"
      ]
    },
    {
      "cell_type": "code",
      "execution_count": null,
      "metadata": {
        "colab": {
          "base_uri": "https://localhost:8080/"
        },
        "id": "-Jjwm40kGBrh",
        "outputId": "042b833a-46f6-4c3e-a031-6fad89072396"
      },
      "outputs": [
        {
          "name": "stdout",
          "output_type": "stream",
          "text": [
            " Enter numbers separated by comas: 30\n",
            "30 FizzBuzz\n"
          ]
        }
      ],
      "source": [
        "def greet_number(numbers):\n",
        "  for num in numbers:\n",
        "    if num % 3 == 0 and num % 5 == 0:\n",
        "         print(num, \"FizzBuzz\")\n",
        "    elif num % 3 == 0:\n",
        "         print(num, \"Fizz\")\n",
        "    elif num % 5 == 0:\n",
        "         print(num, \"Buzz\")\n",
        "    elif num % 2 == 0:\n",
        "         print(num, \"even\")\n",
        "    elif num % 2 != 0:\n",
        "         print(num, \"odd\")\n",
        "user_input = input(\" Enter numbers separated by comas: \")\n",
        "numbers = [int(i) for i in user_input.split(\",\")]\n",
        "greet_number(numbers)"
      ]
    },
    {
      "cell_type": "code",
      "execution_count": null,
      "metadata": {
        "colab": {
          "base_uri": "https://localhost:8080/"
        },
        "id": "e9Kp8liYOAbF",
        "outputId": "05ed01cf-776b-4e43-feee-144918e8fb32"
      },
      "outputs": [
        {
          "name": "stdout",
          "output_type": "stream",
          "text": [
            " Enter numbers separated by comas: 49\n",
            "weak 49\n"
          ]
        }
      ],
      "source": [
        "def crew_power(numbers):\n",
        " for num in numbers:\n",
        "    if num > 50:\n",
        "      print(\"strong\", num)\n",
        "    elif num > 100:\n",
        "      print(\"Boss\", num)\n",
        "    else:\n",
        "      print(\"weak\", num)\n",
        "\n",
        "user_input = input(\" Enter numbers separated by comas: \")\n",
        "numbers = [int(i) for i in user_input.split(\",\")]\n",
        "crew_power(numbers)"
      ]
    },
    {
      "cell_type": "code",
      "execution_count": null,
      "metadata": {
        "colab": {
          "base_uri": "https://localhost:8080/"
        },
        "id": "sgbm4IG1Qcgg",
        "outputId": "8bd36bb1-0e7e-4a28-cda8-45ca00c7f814"
      },
      "outputs": [
        {
          "name": "stdout",
          "output_type": "stream",
          "text": [
            "sakura you are MC 99\n"
          ]
        }
      ],
      "source": [
        "# Naruto verse\n",
        "def power_ranking(shinobi_list):\n",
        "    for shinobi in shinobi_list:\n",
        "       name = shinobi[\"name\"]\n",
        "       power = shinobi[\"power\"]\n",
        "    if power := 99:\n",
        "             print(name, \"you are MC\", power)\n",
        "    elif power := 70:\n",
        "             print(name, \"you are SC\", power)\n",
        "\n",
        "\n",
        "\n",
        "shinobi_list = [{\"name\":\"naruto\", \"power\":99},{\"name\":\"Sasuke\", \"power\":70},{\"name\":\"sakura\", \"power\":20}]\n",
        "power_ranking(shinobi_list)"
      ]
    },
    {
      "cell_type": "code",
      "execution_count": null,
      "metadata": {
        "colab": {
          "base_uri": "https://localhost:8080/"
        },
        "id": "2CMqzsLgpL9X",
        "outputId": "9989fa3c-69a1-4baa-846b-76877dc9994e"
      },
      "outputs": [
        {
          "name": "stdout",
          "output_type": "stream",
          "text": [
            "you are not eligible \n"
          ]
        }
      ],
      "source": [
        "def check_elegibility(age, income):\n",
        "   if age >= 18:\n",
        "      if income >= 60000:\n",
        "       print(\"you are eligible for platinum card\")\n",
        "      else:\n",
        "       print(\"you are eligible for normal card\")\n",
        "   else:\n",
        "       print(\"you are not eligible \")\n",
        "check_elegibility(17, 70000)"
      ]
    },
    {
      "cell_type": "code",
      "execution_count": null,
      "metadata": {
        "colab": {
          "base_uri": "https://localhost:8080/"
        },
        "id": "TUKNsSFbrHQt",
        "outputId": "c1ca05cf-6069-4c09-b5a7-c8ba881b22d3"
      },
      "outputs": [
        {
          "name": "stdout",
          "output_type": "stream",
          "text": [
            "Enter your name:Luffy\n",
            "Enter your power:8000\n",
            "Luffy you're power level is 8000 you can enroll a captain\n"
          ]
        }
      ],
      "source": [
        "def check_requirement(name, power):\n",
        "     if power >= 700:\n",
        "      print(name, \"you're power level is\", power, \"you can enroll a captain\")\n",
        "     elif power <= 699:\n",
        "           print(name, \"you're power level is\", power, \"you can enter as a captain\")\n",
        "\n",
        "user_name = input(\"Enter your name:\")\n",
        "user_power = int(input(\"Enter your power:\"))\n",
        "check_requirement(user_name, user_power)"
      ]
    },
    {
      "cell_type": "code",
      "execution_count": null,
      "metadata": {
        "colab": {
          "base_uri": "https://localhost:8080/"
        },
        "id": "X6sxF2BU44ES",
        "outputId": "cdc1ddce-15de-4663-fb17-5e0b833b676a"
      },
      "outputs": [
        {
          "name": "stdout",
          "output_type": "stream",
          "text": [
            "Enter your Civil score:750\n",
            "Enter your monthly income:999999\n",
            "you're eligible for paperless process loan upto ₹30 lakh \n"
          ]
        }
      ],
      "source": [
        "def loan_checker(civil, income):\n",
        "  if civil >= 700:\n",
        "       if income >= 70000:\n",
        "         print(\"you're eligible for paperless process loan upto ₹30 lakh \")\n",
        "       elif income >= 60000:\n",
        "          print(\"you're eligible for loan upto ₹20lakh please visit branch\")\n",
        "       else:\n",
        "           print(\"sorry we unable to process please visit nearest branch \")\n",
        "user_civil = int(input(\"Enter your Civil score:\"))\n",
        "user_income = int(input(\"Enter your monthly income:\"))\n",
        "loan_checker(user_civil, user_income)"
      ]
    },
    {
      "cell_type": "code",
      "execution_count": null,
      "metadata": {
        "colab": {
          "base_uri": "https://localhost:8080/"
        },
        "id": "Diex_JYqC69f",
        "outputId": "12fb5e8c-b912-4544-9969-cd85fe423d81"
      },
      "outputs": [
        {
          "name": "stdout",
          "output_type": "stream",
          "text": [
            "the person is here name luffy as a role of a  captain in starwhat pirate\n",
            "the person is here name zoro as a role of a  swardman in starwhat pirate\n",
            "the person is here name ussop as a role of a  sniper in starwhat pirate\n",
            "the person is here name robin as a role of a  archeologist in starwhat pirate\n"
          ]
        }
      ],
      "source": [
        "crew = [{\"name\":\"luffy\", \"role\":\"captain\"},{\"name\":\"zoro\", \"role\":\"swardman\"},{\"name\":\"ussop\", \"role\":\"sniper\"},{\"name\":\"robin\", \"role\":\"archeologist\"}]\n",
        "def greet_crew(crew):\n",
        " for mamber in crew:\n",
        "   print(\"the person is here name\", mamber[\"name\"], \"as a role of a \", mamber[\"role\"], \"in starwhat pirate\")\n",
        "greet_crew(crew)"
      ]
    },
    {
      "cell_type": "code",
      "execution_count": null,
      "metadata": {
        "colab": {
          "base_uri": "https://localhost:8080/"
        },
        "id": "DrNLwdiEJyWA",
        "outputId": "bd91b2c6-40fd-40dc-fadc-36ea71fb1653"
      },
      "outputs": [
        {
          "name": "stdout",
          "output_type": "stream",
          "text": [
            " ZORO YOU ARE MY BEST FRIEND \n",
            " zoro you are my best friend \n",
            "['Zoro', 'you', 'are', 'my', 'best', 'friend']\n",
            " Zoro you are my bestest friend \n"
          ]
        }
      ],
      "source": [
        "massage = \" Zoro you are my best friend \"\n",
        "print(massage.upper())\n",
        "print(massage.lower())\n",
        "print(massage.split())\n",
        "print(massage.replace(\"best\", \"bestest\"))"
      ]
    },
    {
      "cell_type": "code",
      "execution_count": null,
      "metadata": {
        "colab": {
          "base_uri": "https://localhost:8080/"
        },
        "id": "AARcA5WNKqVb",
        "outputId": "f4bc76dc-ac4f-46f9-eb28-d5faaafcd1b5"
      },
      "outputs": [
        {
          "name": "stdout",
          "output_type": "stream",
          "text": [
            "9\n",
            "3303413561\n",
            "2746494749\n",
            "100\n",
            "[2746494749, 537463937, 10000000, 6383649, 3000000, 63737, 7000, 389, 100]\n",
            "[100, 389, 7000, 63737, 3000000, 6383649, 10000000, 537463937, 2746494749]\n"
          ]
        }
      ],
      "source": [
        "berries = [100, 389, 7000, 63737, 6383649, 3000000, 10000000, 2746494749, 537463937]\n",
        "print(len(berries))\n",
        "print(sum(berries))\n",
        "print(max(berries))\n",
        "print(min(berries))\n",
        "berries.sort()\n",
        "berries.reverse()\n",
        "print(berries)\n",
        "berries.reverse()\n",
        "print(berries)"
      ]
    },
    {
      "cell_type": "code",
      "execution_count": null,
      "metadata": {
        "id": "cbQV9EIoOoQP"
      },
      "outputs": [],
      "source": []
    },
    {
      "cell_type": "code",
      "execution_count": null,
      "metadata": {
        "colab": {
          "base_uri": "https://localhost:8080/"
        },
        "id": "ZmXk9UolOw-z",
        "outputId": "63d200c2-62f8-4845-cdd1-0c35ca732282"
      },
      "outputs": [
        {
          "name": "stdout",
          "output_type": "stream",
          "text": [
            " Enter the name robin\n",
            "robin BINGO YOU WON THE NAME IS HERE\n"
          ]
        }
      ],
      "source": [
        "#qna only strawhats\n",
        "names = [ \"luffy\", \"zoro\", \"sanji\", \"ussop\", \"nami\", \"chopper\", \"robin\", \"franky\", \"brook\", \"jinbe\"]\n",
        "def guess_crew(name_to_guess):\n",
        "   if name_to_guess in names:\n",
        "     print(name_to_guess, \"BINGO YOU WON THE NAME IS HERE\")\n",
        "   else:\n",
        "     print(name_to_guess, \" who the hell is he? you lost\")\n",
        "user_input = input(\" Enter the name \")\n",
        "guess_crew(user_input)"
      ]
    },
    {
      "cell_type": "code",
      "execution_count": null,
      "metadata": {
        "colab": {
          "base_uri": "https://localhost:8080/"
        },
        "collapsed": true,
        "id": "FeOjmiZ0ordd",
        "outputId": "ca0afd6c-17b7-4baf-ca75-9ad4d237d0e0"
      },
      "outputs": [
        {
          "name": "stdout",
          "output_type": "stream",
          "text": [
            "l you scored 595 distinction\n",
            "imu you scored 585 distinction\n",
            "vega punk you scored 599 distinction\n",
            "luffy you scored 151 fail\n",
            "zoro you scored 268 3rd division\n",
            "aizen you scored 600 distinction\n",
            "ichigo you scored 375 1st division\n"
          ]
        }
      ],
      "source": [
        "students = [{\"name\":\"l\", \"mark\":595},\n",
        "            {\"name\":\"imu\", \"mark\":585},\n",
        "            {\"name\":\"vega punk\", \"mark\":599},\n",
        "            {\"name\":\"luffy\", \"mark\":151},\n",
        "            {\"name\":\"zoro\", \"mark\":268},\n",
        "            {\"name\":\"aizen\", \"mark\":600},\n",
        "            {\"name\":\"ichigo\", \"mark\":375}\n",
        "            ]\n",
        "def sort_result(students):\n",
        "    for student in students:\n",
        "         name = student[\"name\"]\n",
        "         mark = student[\"mark\"]\n",
        "         if mark >= 500:\n",
        "          print(name, \"you scored\", mark, \"distinction\")\n",
        "         elif mark >= 360:\n",
        "          print(name, \"you scored\", mark, \"1st division\")\n",
        "         elif mark >= 300:\n",
        "          print(name, \"you scored\", mark, \"2nd division\")\n",
        "         elif mark >= 180:\n",
        "          print(name, \"you scored\", mark, \"3rd division\")\n",
        "         else:\n",
        "          print(name, \"you scored\", mark, \"fail\")\n",
        "sort_result(students)"
      ]
    },
    {
      "cell_type": "code",
      "execution_count": null,
      "metadata": {
        "colab": {
          "base_uri": "https://localhost:8080/"
        },
        "id": "eMcMccP3UAKw",
        "outputId": "d3c7228b-be22-490b-992b-a869cdb0957c"
      },
      "outputs": [
        {
          "name": "stdout",
          "output_type": "stream",
          "text": [
            "{'ZORO': 2, 'YOU': 1, 'THE': 1, 'BEST': 2, 'AI': 1, 'AND': 1, 'MY': 1, 'FRIEND': 1, 'ALSO': 1}\n"
          ]
        }
      ],
      "source": [
        "speach = \" zoro you the best AI and my best friend also zoro \"\n",
        "upper_speach = speach.upper()\n",
        "word_list = upper_speach.split()\n",
        "word_count = {}\n",
        "for word in word_list:\n",
        " if word in word_count:\n",
        "    word_count[word] += 1\n",
        " else:\n",
        "    word_count[word] = 1\n",
        "print(word_count)"
      ]
    },
    {
      "cell_type": "code",
      "execution_count": null,
      "metadata": {
        "colab": {
          "base_uri": "https://localhost:8080/"
        },
        "id": "2ykqIFH5MJRN",
        "outputId": "d974b3d7-4c1c-488e-f5ec-5a700a3d18ff"
      },
      "outputs": [
        {
          "name": "stdout",
          "output_type": "stream",
          "text": [
            "{'JONNY': 2, 'YES': 1, 'PAPA': 3, 'EATING': 1, 'SUGAR': 1, 'NO': 2, 'TELLING': 1, 'LIES': 1, 'OPEN': 1, 'YOUR': 1, 'MOUTH': 1, 'HAHA': 1}\n"
          ]
        }
      ],
      "source": [
        "sentence = \" jonny Jonny yes papa eating sugar no papa telling lies no papa open your mouth haha \"\n",
        "uppercase_speach = sentence.upper()\n",
        "word_list = uppercase_speach.split()\n",
        "word_count = {}\n",
        "for word in word_list:\n",
        "  if word in word_count:\n",
        "     word_count[word] += 1\n",
        "  else:\n",
        "     word_count[word] = 1\n",
        "print(word_count)"
      ]
    },
    {
      "cell_type": "code",
      "execution_count": null,
      "metadata": {
        "colab": {
          "base_uri": "https://localhost:8080/"
        },
        "id": "3yPfS1vuNnpe",
        "outputId": "16dae06b-e445-43d9-b867-2c1d02beb7d0"
      },
      "outputs": [
        {
          "name": "stdout",
          "output_type": "stream",
          "text": [
            "{'THIS': 1, 'MEANT': 2, 'COMMUNICATIONS': 1, 'HAD': 2, 'TO': 1, 'BE': 1, 'RELAYED': 1, 'BY': 1, 'A': 3, 'SATELLITE': 1, 'WHICH': 1, 'BEEN': 1, 'CUNNINGLY': 1, 'LOCATED': 1, 'FOR': 1, 'THE': 3, 'PURPOSE': 1, 'AT': 1, 'PLACE': 1, 'WHERE': 1, 'INTERACTION': 1, 'OF': 2, 'GRAVITATIONAL': 1, 'FIELDS': 1, 'EARTH': 1, 'AND': 1, 'MOON': 1, 'IT': 1, 'COULD': 1, 'ORBIT': 1, 'POINT': 1, 'IN': 1, 'EMPTY': 1, 'SPACE': 1}\n"
          ]
        }
      ],
      "source": [
        "sentence = \" This meant communications had to be relayed by a satellite which had been cunningly located for the purpose at a place where the interaction of the gravitational fields of Earth and Moon meant it could orbit a point in empty space \"\n",
        "upercase_sentence = sentence.upper()\n",
        "word_list = upercase_sentence.split()\n",
        "word_count = {}\n",
        "for word in word_list:\n",
        "  if word in word_count:\n",
        "     word_count[word] += 1\n",
        "  else:\n",
        "     word_count[word] = 1\n",
        "print(word_count)"
      ]
    },
    {
      "cell_type": "code",
      "execution_count": null,
      "metadata": {
        "colab": {
          "base_uri": "https://localhost:8080/"
        },
        "id": "fzqQDYfuPL7X",
        "outputId": "6d23374d-2c97-49a8-dd1e-279bdab961b1"
      },
      "outputs": [
        {
          "name": "stdout",
          "output_type": "stream",
          "text": [
            "{34: 1, 53: 1, 55: 1, 56: 1, 12: 1}\n",
            "56\n",
            "12\n",
            "210\n"
          ]
        }
      ],
      "source": [
        "numbers = { 12, 34, 56, 53, 55, 12, 34, 34, 55, 53, 56 }\n",
        "number_count = {}\n",
        "for num in numbers:\n",
        "   if num in number_count:\n",
        "      number_count[num] += 1\n",
        "   else:\n",
        "      number_count[num] = 1\n",
        "print(number_count)\n",
        "print(max(numbers))\n",
        "print(min(numbers))\n",
        "print(sum(numbers))"
      ]
    },
    {
      "cell_type": "code",
      "execution_count": null,
      "metadata": {
        "id": "Di1VxPD0tCwz"
      },
      "outputs": [],
      "source": []
    },
    {
      "cell_type": "code",
      "execution_count": null,
      "metadata": {
        "colab": {
          "base_uri": "https://localhost:8080/"
        },
        "id": "eChhIVAjZSku",
        "outputId": "a6ba1f86-c53e-4d1c-c14d-04a61dd20575"
      },
      "outputs": [
        {
          "name": "stdout",
          "output_type": "stream",
          "text": [
            " Enter your temperature : 3\n",
            "Temperature is:  3  degree it's cold weather today \n"
          ]
        }
      ],
      "source": [
        "def tempreture_check(temp):\n",
        "     if temp > 40:\n",
        "       print(\"Temperature is: \", temp, \" degree it's hot weather today \")\n",
        "     elif temp > 25:\n",
        "       print(\"Temperature is: \", temp, \" degree it's warm weather today \")\n",
        "     else:\n",
        "       print(\"Temperature is: \", temp, \" degree it's cold weather today \")\n",
        "\n",
        "user_temp_input = int(input(\" Enter your temperature : \"))\n",
        "tempreture_check(user_temp_input)"
      ]
    },
    {
      "cell_type": "code",
      "execution_count": null,
      "metadata": {
        "colab": {
          "base_uri": "https://localhost:8080/"
        },
        "id": "bQ6MlDHlR6nt",
        "outputId": "1b515745-beea-4f02-e982-183c1be4d85b"
      },
      "outputs": [
        {
          "name": "stdout",
          "output_type": "stream",
          "text": [
            "2000\n",
            "400\n"
          ]
        }
      ],
      "source": [
        "def product_prices(products):\n",
        "    for product in products:\n",
        "         name = product[\"name\"]\n",
        "         price = product[\"price\"]\n",
        "products = [{\"name\":\"rice\", \"price\":700}, {\"name\":\"fish\", \"price\":400}, {\"name\":\"meat\", \"price\":2000}]\n",
        "product_prices(products)\n",
        "max_output = max(product[\"price\"] for product in products)\n",
        "print(max_output)\n",
        "min_output = min(product[\"price\"] for product in products)\n",
        "print(min_output)"
      ]
    },
    {
      "cell_type": "code",
      "execution_count": null,
      "metadata": {
        "colab": {
          "base_uri": "https://localhost:8080/"
        },
        "id": "cezMhEvVaTYk",
        "outputId": "f1b16bc7-a697-4e74-bffb-c3ce9a692242"
      },
      "outputs": [
        {
          "name": "stdout",
          "output_type": "stream",
          "text": [
            "students sorted by Mark:\n",
            "zoro, 565\n",
            "nami, 600\n",
            "luffy, 700\n"
          ]
        }
      ],
      "source": [
        "def student_ranking(students):\n",
        "    for student in students:\n",
        "       name = student[\"name\"]\n",
        "       mark = student[\"mark\"]\n",
        "students = [{\"name\":\"luffy\", \"mark\":700}, {\"name\":\"zoro\", \"mark\":565}, {\"name\":\"nami\", \"mark\":600}]\n",
        "students.sort(key = lambda x: x[\"mark\"])\n",
        "print(\"students sorted by Mark:\")\n",
        "for student in students :\n",
        "  print(f\"{student['name']}, {student['mark']}\")"
      ]
    },
    {
      "cell_type": "code",
      "execution_count": null,
      "metadata": {
        "colab": {
          "base_uri": "https://localhost:8080/"
        },
        "id": "iq-JVJ1LtD-M",
        "outputId": "290dc2d6-53f5-4ccc-9da7-5169dc4c167c"
      },
      "outputs": [
        {
          "name": "stdout",
          "output_type": "stream",
          "text": [
            "lufyy, you got F grade, 149\n",
            "zoro, you got D grade, 200\n",
            "nami, you got C grade, 301\n",
            "robin, you got A grade, 400\n",
            "vega, you got A+ grade, 499\n"
          ]
        }
      ],
      "source": [
        "students = [{\"name\":\"lufyy\", \"mark\":149},\n",
        "            {\"name\":\"zoro\", \"mark\":200},\n",
        "            {\"name\":\"nami\", \"mark\":301},\n",
        "            {\"name\":\"robin\", \"mark\":400},\n",
        "            {\"name\":\"vega\", \"mark\":499}]\n",
        "def student_ranking(students):\n",
        "    for student in students:\n",
        "        name = student[\"name\"]\n",
        "        mark = student[\"mark\"]\n",
        "        if mark >= 450:\n",
        "          print(f\"{student['name']}, {'you got A+ grade'}, {student['mark']}\")\n",
        "        elif mark >= 400:\n",
        "          print(f\"{student['name']}, {'you got A grade'}, {student['mark']}\")\n",
        "        elif mark >= 350:\n",
        "          print(f\"{student['name']}, {'you got B grade'}, {student['mark']}\")\n",
        "        elif mark >= 300:\n",
        "          print(f\"{student['name']}, {'you got C grade'}, {student['mark']}\")\n",
        "        elif mark >= 150:\n",
        "          print(f\"{student['name']}, {'you got D grade'}, {student['mark']}\")\n",
        "        else:\n",
        "          print(f\"{student['name']}, {'you got F grade'}, {student['mark']}\")\n",
        "student_ranking(students)"
      ]
    },
    {
      "cell_type": "code",
      "execution_count": null,
      "metadata": {
        "colab": {
          "base_uri": "https://localhost:8080/"
        },
        "id": "3YfKnkrw0pfd",
        "outputId": "6e0c595c-2227-4d7c-819a-e04aa53b7e49"
      },
      "outputs": [
        {
          "name": "stdout",
          "output_type": "stream",
          "text": [
            "lufyy has bounty of 1490000 and its highest \n",
            "nami has bouty of 301000 and its lowest \n",
            " total sum of bounties are 3590000\n",
            "average of the bounty is 718000.0\n"
          ]
        }
      ],
      "source": [
        "strawhats = [{\"name\":\"lufyy\", \"bounty\":1490000},\n",
        "            {\"name\":\"zoro\", \"bounty\":900000},\n",
        "            {\"name\":\"nami\", \"bounty\":301000},\n",
        "            {\"name\":\"robin\", \"bounty\":400000},\n",
        "            {\"name\":\"vega\", \"bounty\":499000}]\n",
        "def bounty_check(strawhats):\n",
        "    max_crew_bounty = max(strawhats, key = lambda x: x['bounty'])\n",
        "    min_crew_bounty = min(strawhats, key = lambda x: x['bounty'])\n",
        "    sum_crew_bounty = sum(crew['bounty'] for crew in strawhats)\n",
        "    average_crew_bounty = sum_crew_bounty / len(strawhats)\n",
        "    return max_crew_bounty, min_crew_bounty, sum_crew_bounty, average_crew_bounty\n",
        "max_bounty, min_bounty, sum_bounty, average_bounty = bounty_check(strawhats)\n",
        "print(f\"{max_bounty['name']} has bounty of {max_bounty['bounty']} and its highest \")\n",
        "print(f\"{min_bounty['name']} has bouty of {min_bounty['bounty']} and its lowest \" )\n",
        "print(f\"{' total sum of bounties are'} {sum_bounty}\")\n",
        "print(f\"{'average of the bounty'} is {average_bounty}\")"
      ]
    },
    {
      "cell_type": "code",
      "execution_count": null,
      "metadata": {
        "colab": {
          "base_uri": "https://localhost:8080/"
        },
        "id": "xpsSyEXvH-7j",
        "outputId": "dfdf776f-f44e-45e8-8872-2e8696cd6ee7"
      },
      "outputs": [
        {
          "name": "stdout",
          "output_type": "stream",
          "text": [
            "Luffy is a baka captain captain is a baka baka no baka luffy\n",
            "{'LUFFY': 2, 'IS': 2, 'A': 2, 'BAKA': 4, 'CAPTAIN': 2, 'NO': 1}\n"
          ]
        }
      ],
      "source": [
        "sentence = input()\n",
        "sentence_uppercase = sentence.upper()\n",
        "word_list = sentence_uppercase.split()\n",
        "word_count = {}\n",
        "for word in word_list:\n",
        "  if word in word_count:\n",
        "     word_count[word] += 1\n",
        "  else:\n",
        "     word_count[word] = 1\n",
        "print(word_count)"
      ]
    },
    {
      "cell_type": "code",
      "execution_count": null,
      "metadata": {
        "colab": {
          "base_uri": "https://localhost:8080/"
        },
        "id": "DjHtONejRWOS",
        "outputId": "dfee319d-4b67-4501-859a-71687762ba29"
      },
      "outputs": [
        {
          "name": "stdout",
          "output_type": "stream",
          "text": [
            " total value of the products: 3926000\n",
            " highest valueable product is  nothing - 1920000\n"
          ]
        }
      ],
      "source": [
        "products = [{\"name\":\"vivo\", \"price\":17000, \"stocks\":8},\n",
        "            {\"name\":\"oneplus\", \"price\":40000, \"stocks\":9},\n",
        "            {\"name\":\"macbook\", \"price\":150000, \"stocks\":1},\n",
        "            {\"name\":\"iphone\", \"price\":170000, \"stocks\":8},\n",
        "            {\"name\":\"nothing\", \"price\":80000, \"stocks\":24}]\n",
        "total_value = 0\n",
        "highest_value = 0\n",
        "highest_product = \"\"\n",
        "for product in products:\n",
        "      name = product[\"name\"]\n",
        "      price = product[\"price\"]\n",
        "      stocks = product[\"stocks\"]\n",
        "\n",
        "      if stocks == 0:\n",
        "          continue\n",
        "\n",
        "      value = price * stocks\n",
        "      total_value += value\n",
        "\n",
        "      if value > highest_value:\n",
        "         highest_value = value\n",
        "         highest_product = name\n",
        "\n",
        "print(\" total value of the products:\", total_value)\n",
        "print(\" highest valueable product is \",highest_product,\"-\",highest_value)"
      ]
    },
    {
      "cell_type": "code",
      "execution_count": null,
      "metadata": {
        "colab": {
          "base_uri": "https://localhost:8080/"
        },
        "id": "eluB-mswUK-i",
        "outputId": "48a888ff-2eaf-4408-c8cd-8fe2bef1896a"
      },
      "outputs": [
        {
          "name": "stdout",
          "output_type": "stream",
          "text": [
            " grand total value of the products: 7100\n",
            " valueable product is  charger - 3600\n"
          ]
        }
      ],
      "source": [
        "products = [\n",
        "{\"name\": \"earphone\", \"price\": 200, \"stock\": 10},\n",
        "{\"name\": \"cable\", \"price\": 100, \"stock\": 0},\n",
        "{\"name\": \"charger\", \"price\": 400, \"stock\": 9},\n",
        "{\"name\": \"card\", \"price\": 30, \"stock\": 50}]\n",
        "\n",
        "total_value = 0\n",
        "highest_value = 0\n",
        "highest_product = \"\"\n",
        "for product in products:\n",
        "      price = product[\"price\"]\n",
        "      stock = product[\"stock\"]\n",
        "      name = product[\"name\"]\n",
        "\n",
        "\n",
        "      if stock == 0:\n",
        "        continue\n",
        "\n",
        "      value = price * stock\n",
        "      total_value += value\n",
        "\n",
        "      if value > highest_value:\n",
        "        highest_value = value\n",
        "        highest_product = name\n",
        "print(\" grand total value of the products:\", total_value)\n",
        "print(\" valueable product is \", highest_product, \"-\" ,highest_value)"
      ]
    },
    {
      "cell_type": "code",
      "execution_count": null,
      "metadata": {
        "colab": {
          "base_uri": "https://localhost:8080/"
        },
        "id": "SdJXgkoXiwfv",
        "outputId": "e069a4eb-9eea-4a18-ae5a-ebd63eb52781"
      },
      "outputs": [
        {
          "name": "stdout",
          "output_type": "stream",
          "text": [
            "[3, 6, 9, 12, 15]\n"
          ]
        }
      ],
      "source": [
        "number = [ 1, 2, 3, 4, 5, 6, 7, 8, 9, 10, 11, 12, 13, 14, 15]\n",
        "even_numbers = [num for num in number if num % 3 == 0]\n",
        "print(even_numbers)"
      ]
    },
    {
      "cell_type": "code",
      "execution_count": null,
      "metadata": {
        "colab": {
          "base_uri": "https://localhost:8080/"
        },
        "id": "vmuOINavkpJb",
        "outputId": "84b68c27-8350-42cd-c9a7-03c1866485dc"
      },
      "outputs": [
        {
          "name": "stdout",
          "output_type": "stream",
          "text": [
            "[2, 4, 6, 8, 10, 12, 14, 16, 18, 20, 22, 24, 26, 28, 30, 32, 34, 36, 38, 40, 42, 44, 46, 48, 50, 52, 54, 56, 58, 60, 62, 64, 66, 68, 70, 72, 74, 76, 78, 80, 82, 84, 86, 88]\n"
          ]
        }
      ],
      "source": [
        "even_numbers = [num for num in range(1, 90) if num % 2 == 0]\n",
        "print(even_numbers)"
      ]
    },
    {
      "cell_type": "code",
      "execution_count": null,
      "metadata": {
        "colab": {
          "base_uri": "https://localhost:8080/"
        },
        "id": "-kP3K_flFhcH",
        "outputId": "76263c38-b9c1-4520-ce39-9d508b9dc19a"
      },
      "outputs": [
        {
          "name": "stdout",
          "output_type": "stream",
          "text": [
            " total value of the books is : 170200\n",
            " most of funds are coverd by : dragon ball - 70200\n"
          ]
        }
      ],
      "source": [
        "books = [{\"tittle\": \"one piece\", \"price\": 700, \"stock\": 50},\n",
        "{\"tittle\": \"AOT\", \"price\": 800, \"stock\": 0},\n",
        "{\"tittle\": \"OPM\", \"price\": 650, \"stock\": 100},\n",
        "{\"tittle\": \"dragon ball\", \"price\": 900, \"stock\": 78}]\n",
        "\n",
        "\n",
        "total_value = 0\n",
        "highest_value = 0\n",
        "highest_book = \"\"\n",
        "for book in books:\n",
        "     tittle = book[\"tittle\"]\n",
        "     price = book[\"price\"]\n",
        "\n",
        "     stock = book[\"stock\"]\n",
        "\n",
        "\n",
        "\n",
        "     if stock == 0:\n",
        "         continue\n",
        "\n",
        "     value = price * stock\n",
        "     total_value += value\n",
        "     if value > highest_value:\n",
        "        highest_value = value\n",
        "        highest_book = tittle\n",
        "\n",
        "\n",
        "print(\" total value of the books is :\", total_value)\n",
        "print(\" most of funds are coverd by :\", highest_book, \"-\", highest_value)"
      ]
    },
    {
      "cell_type": "code",
      "execution_count": null,
      "metadata": {
        "colab": {
          "base_uri": "https://localhost:8080/"
        },
        "id": "3CAGlrmOM6aA",
        "outputId": "209607ea-57dd-46a6-b543-88059040980e"
      },
      "outputs": [
        {
          "name": "stdout",
          "output_type": "stream",
          "text": [
            " our family uses mobile phone worth rupees of : 111000\n",
            " the maximum money is used on this mobile : nothing phone 2 - worth rupees of 38000\n"
          ]
        }
      ],
      "source": [
        "\n",
        "# mobile_phones our family use .\n",
        "mobiles = [{\"name\": \"iQOO z7 pro\", \"price\": 25000, \"quantity\": 1},\n",
        "{\"name\": \"oppo A57\", \"price\": 18000, \"quantity\": 1},\n",
        "{\"name\": \"redmi note 8pro\", \"price\": 15000, \"quantity\": 2},\n",
        "{\"name\": \"nothing phone 2\", \"price\": 38000, \"quantity\": 1}]\n",
        "\n",
        "total_value = 0\n",
        "costliest_mobile_value = 0\n",
        "costliest_mobile_name = \"\"\n",
        "\n",
        "for mobile in mobiles:\n",
        "    name = mobile[\"name\"]\n",
        "    price = mobile[\"price\"]\n",
        "\n",
        "    quantity = mobile[\"quantity\"]\n",
        "\n",
        "\n",
        "    if quantity == 0:\n",
        "      continue\n",
        "\n",
        "\n",
        "    value = price * quantity\n",
        "    total_value += value\n",
        "\n",
        "    if value > costliest_mobile_value:\n",
        "        costliest_mobile_value = value\n",
        "        costliest_mobile_name = name\n",
        "print(\" our family uses mobile phone worth rupees of :\", total_value)\n",
        "print(\" the maximum money is used on this mobile :\", costliest_mobile_name, \"- worth rupees of\", costliest_mobile_value)"
      ]
    },
    {
      "cell_type": "code",
      "execution_count": null,
      "metadata": {
        "colab": {
          "base_uri": "https://localhost:8080/"
        },
        "id": "96gIfkTXTnwb",
        "outputId": "16c61323-bc97-43e5-eb4f-dfe4d66fc763"
      },
      "outputs": [
        {
          "name": "stdout",
          "output_type": "stream",
          "text": [
            "['ALSO', 'BOTH', 'EACH', 'IS', 'IS', 'KIND', 'KIND', 'LIKE', 'TO', 'ZORO']\n",
            "['AND', 'AND', 'ARE', 'BROTHER', 'LUFFY', 'OTHER']\n"
          ]
        }
      ],
      "source": [
        "sentence = \" luffy is kind and zoro is also kind and both are like brother to each other \"\n",
        "uppercase_sentence = sentence.upper()\n",
        "word_list = uppercase_sentence.split()\n",
        "word_list.sort()\n",
        "even_word_count =  [word for word in word_list if len(word) % 2 ==0]\n",
        "print(even_word_count)\n",
        "odd_word_count = [word for word in word_list if len(word) % 2 != 0]\n",
        "print(odd_word_count)"
      ]
    },
    {
      "cell_type": "code",
      "execution_count": null,
      "metadata": {
        "colab": {
          "base_uri": "https://localhost:8080/"
        },
        "id": "9GGNzR1hki5R",
        "outputId": "4e063de8-2807-4c90-e746-e1a65fd511aa"
      },
      "outputs": [
        {
          "name": "stdout",
          "output_type": "stream",
          "text": [
            "The first place goes to Light with the mark of: 599 out of 600\n",
            "The second place goes to Luffy with the mark of: 578 out of 600\n",
            "the third place goes to Naruto with the mark of: 555 out of 600\n"
          ]
        }
      ],
      "source": [
        "students = [{\"name\": \"Naruto\", \"mark\": 555},\n",
        "{\"name\": \"Luffy\", \"mark\": 578},\n",
        "{\"name\": \"Ichigo\", \"mark\": 530},\n",
        "{\"name\": \"Light\", \"mark\": 599}]\n",
        "\n",
        "def ranking_student(students):\n",
        "   for student in students:\n",
        "       name = student[\"name\"]\n",
        "       mark = student[\"mark\"]\n",
        "students.sort( key = lambda x: x[\"mark\"])\n",
        "print(f\"{'The first place goes to'} {students[-1]['name']} {'with the mark of:'} {students[-1]['mark']} {'out of 600'}\")\n",
        "print(f\"{'The second place goes to'} {students[-2]['name']} {'with the mark of:'} {students[-2]['mark']} {'out of 600'}\")\n",
        "print(f\"{'the third place goes to'} {students[-3]['name']} {'with the mark of:'} {students[-3]['mark']} {'out of 600'}\")\n",
        "ranking_student(students)"
      ]
    },
    {
      "cell_type": "code",
      "execution_count": null,
      "metadata": {
        "colab": {
          "base_uri": "https://localhost:8080/"
        },
        "id": "PKr5GCJKr2rE",
        "outputId": "0125caa9-33a3-49c4-9d83-0a8bc4408f58"
      },
      "outputs": [
        {
          "name": "stdout",
          "output_type": "stream",
          "text": [
            "this product is out of stock chocolate, please fill the stock\n",
            "this product is out of stock cake, please fill the stock\n",
            "The total value of the products 178000\n",
            " The funds are available in rice - 56000\n"
          ]
        }
      ],
      "source": [
        "products = [{\"name\": \"rice\", \"price\": 700, \"stock\": 80},\n",
        "{\"name\": \"fish\", \"price\": 800, \"stock\": 65},\n",
        "{\"name\": \"meat\", \"price\": 900, \"stock\": 50},\n",
        "{\"name\": \"chocolate\", \"price\": 1000, \"stock\": 0},\n",
        "{\"name\": \"cake\", \"price\": 1500, \"stock\": 0},\n",
        "{\"name\": \"oil\", \"price\": 500, \"stock\": 50}]\n",
        "\n",
        "total_value  = 0\n",
        "maximum_value = 0\n",
        "highest_product = \"\"\n",
        "\n",
        "\n",
        "for product in products:\n",
        "\n",
        "\n",
        "\n",
        "       name = product[\"name\"]\n",
        "       price = product[\"price\"]\n",
        "       stock = product[\"stock\"]\n",
        "\n",
        "\n",
        "       if stock == 0:\n",
        "\n",
        "\n",
        "          print(f\"{'this product is out of stock'} {product['name']}, {'please fill the stock'}\")\n",
        "\n",
        "\n",
        "          continue\n",
        "\n",
        "       value = price * stock\n",
        "       total_value += value\n",
        "\n",
        "\n",
        "       if value > maximum_value:\n",
        "         maximum_value = value\n",
        "         highest_product = name\n",
        "\n",
        "\n",
        "print(f\"{'The total value of the products'} {total_value}\")\n",
        "print(f\"{' The funds are available in'} {highest_product} - {maximum_value}\")"
      ]
    },
    {
      "cell_type": "code",
      "execution_count": null,
      "metadata": {
        "colab": {
          "base_uri": "https://localhost:8080/"
        },
        "id": "SxeR0pchhAoH",
        "outputId": "80dac595-2aa0-430b-efc2-00f417e02adc"
      },
      "outputs": [
        {
          "name": "stdout",
          "output_type": "stream",
          "text": [
            "nahida you got A+ Grande and with the mark of 555\n",
            "furina you got B Grande and with the mark of 470\n",
            "raiden you got C Grande and with the mark of 365\n",
            "skirk you got A+ Grande and with the mark of 590\n",
            "qiqi you got F Grande and with the mark of 140\n"
          ]
        }
      ],
      "source": [
        "students = [{\"name\": \"nahida\", \"mark\": 555},\n",
        "{\"name\": \"furina\", \"mark\": 470},\n",
        "{\"name\": \"raiden\", \"mark\": 365},\n",
        "{\"name\": \"skirk\", \"mark\": 590},\n",
        "{\"name\": \"qiqi\", \"mark\": 140}]\n",
        "def grade_ranking(students):\n",
        "\n",
        "   for student in students:\n",
        "         name = student[\"name\"]\n",
        "         mark = student[\"mark\"]\n",
        "         if mark > 540:\n",
        "           print(f\"{student['name']} {'you got A+ Grande and with the mark of'} {student['mark']}\")\n",
        "         elif mark > 500:\n",
        "           print(f\"{student['name']} {'you got A Grande and with the mark of'} {student['mark']}\")\n",
        "         elif mark > 450:\n",
        "           print(f\"{student['name']} {'you got B Grande and with the mark of'} {student['mark']}\")\n",
        "         elif mark > 350:\n",
        "           print(f\"{student['name']} {'you got C Grande and with the mark of'} {student['mark']}\")\n",
        "         else:\n",
        "           print(f\"{student['name']} {'you got F Grande and with the mark of'} {student['mark']}\")\n",
        "grade_ranking(students)"
      ]
    },
    {
      "cell_type": "code",
      "execution_count": null,
      "metadata": {
        "colab": {
          "base_uri": "https://localhost:8080/"
        },
        "id": "3lYCdygplgGJ",
        "outputId": "0d257bb8-09b7-410a-f31c-d01e570dccb5"
      },
      "outputs": [
        {
          "name": "stdout",
          "output_type": "stream",
          "text": [
            "The grand value of the shop is 1300000\n",
            "Most of the shops fund are used to buy table worth rupees of 600000\n"
          ]
        }
      ],
      "source": [
        "products = [{\"name\": \"sofa\", \"price\": 40000, \"quantity\": 10},\n",
        "{\"name\": \"dining\", \"price\": 50000, \"quantity\": 6},\n",
        "{\"name\": \"bed\", \"price\": 70000, \"quantity\": 0},\n",
        "{\"name\": \"table\", \"price\": 30000, \"quantity\": 20}]\n",
        "\n",
        "\n",
        "grand_value = 0\n",
        "expensive_value = 0\n",
        "expensive_product = \"\"\n",
        "\n",
        "for product in products:\n",
        "      name = product[\"name\"]\n",
        "      price = product[\"price\"]\n",
        "      quantity = product[\"quantity\"]\n",
        "\n",
        "      if quantity == 0:\n",
        "          continue\n",
        "\n",
        "\n",
        "\n",
        "      value = price * quantity\n",
        "      grand_value += value\n",
        "\n",
        "\n",
        "      if value > expensive_value:\n",
        "        expensive_value = value\n",
        "        expensive_product = name\n",
        "\n",
        "print(f\"{'The grand value of the shop is'} {grand_value}\")\n",
        "print(f\"{'Most of the shops fund are used to buy'} {expensive_product} {'worth rupees of'} {expensive_value}\")"
      ]
    },
    {
      "cell_type": "code",
      "execution_count": null,
      "metadata": {
        "colab": {
          "base_uri": "https://localhost:8080/"
        },
        "id": "ftrxSUgtqDJr",
        "outputId": "d55c4c98-c475-4f60-ea6a-373a37724dfc"
      },
      "outputs": [
        {
          "name": "stdout",
          "output_type": "stream",
          "text": [
            "The even word which is in the sentences are : ['MY', 'NAME', 'IS', 'LOVE', 'TO', 'READ', 'ALSO', 'PLAY']\n",
            "The odd word which is in the sentences are : ['LUFFY', 'I', 'NOVEL', 'AND', 'I', 'GAMES', 'SOMETIMES']\n"
          ]
        }
      ],
      "source": [
        "sentences = \" my name is luffy I love to read novel and also I play games sometimes\"\n",
        "uppercase_words = sentences.upper()\n",
        "word_list = uppercase_words.split()\n",
        "even_word = [word for word in word_list if len(word) % 2 == 0]\n",
        "print(\"The even word which is in the sentences are :\", even_word)\n",
        "odd_word = [word for word in word_list if len(word) % 2 != 0]\n",
        "print(\"The odd word which is in the sentences are :\", odd_word)"
      ]
    },
    {
      "cell_type": "code",
      "execution_count": null,
      "metadata": {
        "colab": {
          "base_uri": "https://localhost:8080/"
        },
        "id": "rOGIhUmKsWha",
        "outputId": "898c2de1-142e-49c8-989f-8fe1f496e821"
      },
      "outputs": [
        {
          "name": "stdout",
          "output_type": "stream",
          "text": [
            "The most expensive device is : mac book worth rupees of: 150000\n",
            "The 2nd most expensive device is : one plus worth rupees of: 80000\n",
            "The 3rd most expensive device is : iphone worth rupees of: 70000\n"
          ]
        }
      ],
      "source": [
        "phones = [{\"name\": \"iphone\", \"price\": 70000},\n",
        "{\"name\": \"mac book\", \"price\": 150000},\n",
        "{\"name\": \"one plus\", \"price\": 80000},\n",
        "{\"name\": \"buds\", \"price\": 5000}]\n",
        "\n",
        "expensive_phones = sorted(phones, key=lambda x: x['price'], reverse=True)\n",
        "def phone_list(expensive_phones):\n",
        "   for phone in expensive_phones:\n",
        "        name = phone[\"name\"]\n",
        "        price = phone[\"price\"]\n",
        "\n",
        "print(f\"{'The most expensive device is :'} {expensive_phones[0]['name']} {'worth rupees of:'} {expensive_phones[0]['price']}\")\n",
        "print(f\"{'The 2nd most expensive device is :'} {expensive_phones[1]['name']} {'worth rupees of:'} {expensive_phones[1]['price']}\")\n",
        "print(f\"{'The 3rd most expensive device is :'} {expensive_phones[2]['name']} {'worth rupees of:'} {expensive_phones[2]['price']}\")\n",
        "phone_list(expensive_phones)"
      ]
    },
    {
      "cell_type": "code",
      "execution_count": null,
      "metadata": {
        "colab": {
          "base_uri": "https://localhost:8080/"
        },
        "id": "MS9WgEAp2WoL",
        "outputId": "8a449112-feeb-44c2-f3f7-27640faf15c0"
      },
      "outputs": [
        {
          "name": "stdout",
          "output_type": "stream",
          "text": [
            "how many products?1\n",
            "Enter the product name:Oil\n",
            "Enter the price:300\n",
            "Enter the quantity:3\n",
            "Your total bill is : 900\n",
            "most of most expensive product is : Oil worth rupees of 900\n"
          ]
        }
      ],
      "source": [
        "products  = []\n",
        "n = int(input(\"how many products?\"))\n",
        "for i in range(n):\n",
        "     name = input(\"Enter the product name:\")\n",
        "     price = int(input(\"Enter the price:\"))\n",
        "     stock = int(input(\"Enter the quantity:\"))\n",
        "\n",
        "     product = {\"name\": name, \"price\": price, \"stock\": stock}\n",
        "     products.append(product)\n",
        "\n",
        "\n",
        "\n",
        "total_value = 0\n",
        "expensive_value = 0\n",
        "expensive_product = \"\"\n",
        "\n",
        "for product in products:\n",
        "   value = product[\"price\"] * product[\"stock\"]\n",
        "   total_value +=  value\n",
        "\n",
        "\n",
        "   if value > expensive_value:\n",
        "      expensive_value = value\n",
        "      expensive_product = product[\"name\"]\n",
        "print(f\"{'Your total bill is :'} {total_value}\")\n",
        "print(f\"{'most of most expensive product is :'} {product['name']} {'worth rupees of'} {expensive_value}\")"
      ]
    },
    {
      "cell_type": "code",
      "execution_count": null,
      "metadata": {
        "colab": {
          "base_uri": "https://localhost:8080/"
        },
        "id": "8SAvH5l3IjTX",
        "outputId": "184d2c36-d4c6-4865-e8da-c43c19d6bb30"
      },
      "outputs": [
        {
          "name": "stdout",
          "output_type": "stream",
          "text": [
            "No of phones1\n",
            "Enter the model name:Oppo\n",
            "Enter the MRP:20000\n",
            "Enter the quantity:1\n",
            "Total bill amount: 20000\n",
            "The highest amount of money is used to buy  Oppo worth rupees of 20000\n"
          ]
        }
      ],
      "source": [
        "mobiles = []\n",
        "n = int(input(\"No of phones\"))\n",
        "for i in range(n):\n",
        "    name = input(\"Enter the model name:\")\n",
        "    price = int(input(\"Enter the MRP:\"))\n",
        "    quantity = int(input(\"Enter the quantity:\"))\n",
        "\n",
        "    mobile = {\"name\": name, \"price\": price, \"quantity\": quantity}\n",
        "    mobiles.append(mobile)\n",
        "\n",
        "total_value = 0\n",
        "highest_value = 0\n",
        "highest_phone = \"\"\n",
        "\n",
        "for mobile in mobiles:\n",
        "    value = mobile[\"price\"] * mobile[\"quantity\"]\n",
        "    total_value += value\n",
        "    if value > highest_value:\n",
        "      highest_value = value\n",
        "      highest_phone = mobile[\"name\"]\n",
        "print(f\"{'Total bill amount:'} {total_value}\")\n",
        "print(f\"{'The highest amount of money is used to buy '} {highest_phone} {'worth rupees of'} {highest_value}\")"
      ]
    },
    {
      "cell_type": "code",
      "execution_count": null,
      "metadata": {
        "colab": {
          "base_uri": "https://localhost:8080/"
        },
        "id": "WYxuy5TaRbfe",
        "outputId": "578b66f7-6629-4d44-f43f-dd167487bf66"
      },
      "outputs": [
        {
          "name": "stdout",
          "output_type": "stream",
          "text": [
            "salman you have passed with the mark of: 400 out of 600\n",
            "sarukh you have passed with the mark of: 500 out of 600\n",
            "RDJ you have passed with the mark of: 590 out of 600\n",
            "hulk you have failed  you got 298 out of 600 while passing mark is 300\n",
            "banner you have passed with the mark of: 587 out of 600\n",
            "loki you have passed with the mark of: 555 out of 600\n",
            "groot you have failed  you got 70 out of 600 while passing mark is 300\n"
          ]
        }
      ],
      "source": [
        "students = [{\"name\": \"salman\", \"mark\": 400},\n",
        "{\"name\": \"sarukh\", \"mark\": 500},\n",
        "{\"name\": \"RDJ\", \"mark\": 590},\n",
        "{\"name\": \"hulk\", \"mark\": 298},\n",
        "{\"name\": \"banner\", \"mark\": 587},\n",
        "{\"name\": \"loki\", \"mark\": 555},\n",
        "{\"name\": \"groot\", \"mark\": 70}]\n",
        "\n",
        "\n",
        "for student in students:\n",
        "       name = student[\"name\"]\n",
        "       mark = student[\"mark\"]\n",
        "       if mark >= 300 :\n",
        "         print(f\"{student['name']} {'you have passed with the mark of:'} {student['mark']} {'out of 600'}\")\n",
        "       else:\n",
        "         print(f\"{student['name']} {'you have failed '} {'you got'} {student['mark']} {'out of 600'} {'while passing mark is 300'}\")"
      ]
    },
    {
      "cell_type": "code",
      "execution_count": null,
      "metadata": {
        "colab": {
          "base_uri": "https://localhost:8080/"
        },
        "id": "2PJyWKtcU6Ad",
        "outputId": "91bee01b-89af-4267-e3b7-2e78906da78c"
      },
      "outputs": [
        {
          "name": "stdout",
          "output_type": "stream",
          "text": [
            "{'HULK': 2, 'AND': 3, 'THOR': 2, 'ARE': 1, 'THE': 2, 'BEST': 2, 'DUO': 1, 'AS': 2, 'WELL': 1, 'HAS': 1, 'MOMENTS': 1, 'IN': 1, 'MARVEL': 2, 'IS': 1, 'A': 1, 'STUDIO': 2, 'LIKE': 1, 'DC': 1}\n"
          ]
        }
      ],
      "source": [
        "sentences = \" Hulk and Thor are the best duo as well as hulk and thor has best moments in the marvel and marvel is a studio like dc studio\"\n",
        "uppercase_sentence = sentences.upper()\n",
        "word_list = uppercase_sentence.split()\n",
        "word_count = {}\n",
        "for word in word_list:\n",
        "  if word in word_count:\n",
        "    word_count[word] += 1\n",
        "  else:\n",
        "    word_count[word] = 1\n",
        "print(word_count)"
      ]
    },
    {
      "cell_type": "code",
      "execution_count": null,
      "metadata": {
        "colab": {
          "base_uri": "https://localhost:8080/"
        },
        "id": "7Qd8WELyXHUD",
        "outputId": "e053ffb0-6589-4229-d924-d83aa2106bb9"
      },
      "outputs": [
        {
          "name": "stdout",
          "output_type": "stream",
          "text": [
            "[{'name': 'ginshen', 'size': 50}, {'name': 'Fortnite', 'size': 25}, {'name': 'COD', 'size': 22}, {'name': 'PUBG', 'size': 15}, {'name': 'COC', 'size': 2}]\n",
            "The game is : ginshen has massive size of: 50 freaking GIGA BYTES\n"
          ]
        }
      ],
      "source": [
        "\n",
        "# Game Size in GB MOBILE GAMES\n",
        "games = [{\"name\": \"ginshen\", \"size\": 50},\n",
        "{\"name\": \"PUBG\", \"size\": 15},\n",
        "{\"name\": \"Fortnite\", \"size\": 25},\n",
        "{\"name\": \"COD\", \"size\": 22},\n",
        "{\"name\": \"COC\", \"size\": 2}]\n",
        "\n",
        "\n",
        "game_list = sorted(games, key=lambda x: x[\"size\"], reverse=True)\n",
        "print(game_list)\n",
        "for game in game_list:\n",
        "    name = game[\"name\"]\n",
        "    size = game[\"size\"]\n",
        "print(f\"{'The game is :'} {game_list[0]['name']} {'has massive size of:'} {game_list[0]['size']} {'freaking GIGA BYTES'}\")"
      ]
    },
    {
      "cell_type": "code",
      "execution_count": null,
      "metadata": {
        "colab": {
          "base_uri": "https://localhost:8080/"
        },
        "id": "PDJvthb-bclW",
        "outputId": "e9d5fbf3-246f-48ca-9180-0d16025fb6da"
      },
      "outputs": [
        {
          "name": "stdout",
          "output_type": "stream",
          "text": [
            "['IS', 'GREATEST', 'PLAYER', 'OF', 'TIME', 'GOAT', 'OF', 'FOOTBALL', 'LOVE', 'SO', 'MUCH', 'OF', 'OF']\n",
            "['MESSI', 'THE', 'ALL', 'AKA', 'THE', 'I', 'MESSI', 'AND', 'ONE', 'BIGGEST', 'FAN', 'HIM']\n"
          ]
        }
      ],
      "source": [
        "sentences = \" messi is the greatest player of all time AKA the goat of football I love messi so much and one of biggest fan of him\"\n",
        "uppercase_sentence = sentences.upper()\n",
        "word_list = uppercase_sentence.split()\n",
        "even_words = [word for word in word_list if len(word) % 2 == 0]\n",
        "print(even_words)\n",
        "odd_words  = [word for word in word_list if len(word) % 2 != 0]\n",
        "print(odd_words)"
      ]
    },
    {
      "cell_type": "code",
      "execution_count": null,
      "metadata": {
        "colab": {
          "base_uri": "https://localhost:8080/"
        },
        "id": "xImx3Y9CqWfg",
        "outputId": "99417ace-630f-4469-ba0d-f72d6ca7ee70"
      },
      "outputs": [
        {
          "name": "stdout",
          "output_type": "stream",
          "text": [
            "Enter a number: Ft\n",
            "Please enter a valid number.\n"
          ]
        }
      ],
      "source": [
        "try:\n",
        "    num = int(input(\"Enter a number: \"))\n",
        "    result = 10 / num\n",
        "    print(\"Result:\", result)\n",
        "except ZeroDivisionError:\n",
        "    print(\"You can't divide by zero!\")\n",
        "except ValueError:\n",
        "    print(\"Please enter a valid number.\")"
      ]
    },
    {
      "cell_type": "code",
      "execution_count": null,
      "metadata": {
        "id": "cteNOjsQxe0L"
      },
      "outputs": [],
      "source": []
    },
    {
      "cell_type": "code",
      "execution_count": null,
      "metadata": {
        "colab": {
          "base_uri": "https://localhost:8080/"
        },
        "id": "aFZ4qtPwxh67",
        "outputId": "bcfa4b5c-286f-48f9-e858-107db6956c15"
      },
      "outputs": [
        {
          "name": "stdout",
          "output_type": "stream",
          "text": [
            "[{'name': 'madara', 'mark': 569}, {'name': 'itachi', 'mark': 545}, {'name': 'pain', 'mark': 534}, {'name': 'Boruto', 'mark': 450}, {'name': 'guy', 'mark': 159}, {'name': 'lee', 'mark': 157}]\n",
            "madara you got first place with Mark of 569 out of 600\n"
          ]
        }
      ],
      "source": [
        "students = [{\"name\": \"Boruto\", \"mark\": 450},\n",
        "{\"name\": \"itachi\", \"mark\": 545},\n",
        "{\"name\": \"madara\", \"mark\": 569},\n",
        "{\"name\": \"pain\", \"mark\": 534},\n",
        "{\"name\": \"guy\", \"mark\": 159},\n",
        "{\"name\": \"lee\", \"mark\": 157}]\n",
        "\n",
        "Student_list = sorted(students, key =lambda x: x[\"mark\"], reverse=True)\n",
        "print(student_list)\n",
        "print(f\"{student_list[0]['name']} {'you got first place with Mark of'} {student_list[0]['mark']} {'out of 600'}\")"
      ]
    },
    {
      "cell_type": "code",
      "execution_count": null,
      "metadata": {
        "colab": {
          "base_uri": "https://localhost:8080/"
        },
        "id": "__koJ7OwKUVZ",
        "outputId": "2344ab81-6bce-4fef-ede8-f13ff38d1c41"
      },
      "outputs": [
        {
          "name": "stdout",
          "output_type": "stream",
          "text": [
            "phone cost more ten thousand rupees\n",
            "buds cost more ten thousand rupees\n"
          ]
        }
      ],
      "source": [
        "devices = [{\"name\": \"phone\", \"price\": 15000, \"quantity\": 2},\n",
        "{\"name\": \"buds\", \"price\": 5299, \"quantity\": 2},\n",
        "{\"name\": \"watch\", \"price\": 2000, \"quantity\": 2}]\n",
        "\n",
        "\n",
        "for device in devices:\n",
        "    name = device[\"name\"]\n",
        "    price = device[\"price\"]\n",
        "    quantity = device[\"quantity\"]\n",
        "\n",
        "    value = price * quantity\n",
        "\n",
        "\n",
        "    if value > 10000:\n",
        "     print(f\"{device['name']} {'cost more ten thousand rupees'}\")"
      ]
    },
    {
      "cell_type": "code",
      "execution_count": null,
      "metadata": {
        "colab": {
          "base_uri": "https://localhost:8080/"
        },
        "collapsed": true,
        "id": "gc75t9djM_pR",
        "outputId": "01a8d0dc-58ae-4443-dbec-0e67a4fab4f8"
      },
      "outputs": [
        {
          "name": "stdout",
          "output_type": "stream",
          "text": [
            "Enter the phone name: Iphone\n",
            "you are searching for Iphone worth rupees of 70000\n"
          ]
        }
      ],
      "source": [
        "phones = [{\"name\": \"Iphone\", \"price\": 70000}, {\"name\": \"Oneplus\", \"price\": 69000}, {\"name\": \"HMD\", \"price\": 55000}]\n",
        "user_input = input(\"Enter the phone name: \")\n",
        "found_phone = None\n",
        "for phone in phones:\n",
        "    if user_input.lower() == phone[\"name\"].lower():\n",
        "        found_phone = phone\n",
        "\n",
        "if found_phone:\n",
        "    print(f\"{'you are searching for'} {found_phone['name']} {'worth rupees of'} {found_phone['price']}\")\n",
        "else:\n",
        "    print(\"data not found\")"
      ]
    },
    {
      "cell_type": "code",
      "execution_count": null,
      "metadata": {
        "colab": {
          "base_uri": "https://localhost:8080/"
        },
        "id": "5bLQjHtlZk_X",
        "outputId": "9852ead2-bbcd-4ad9-c53c-54e272b4005f"
      },
      "outputs": [
        {
          "name": "stdout",
          "output_type": "stream",
          "text": [
            "Enter the phone name:Samsung\n",
            "samsung is cost about ₹150000 and has ram of 16GB\n"
          ]
        }
      ],
      "source": [
        "phones = [{\"name\": \"Iphone\", \"price\": 75000, \"ram\": 8},\n",
        "{\"name\": \"OnePlus\", \"price\": 90000, \"ram\": 12},\n",
        "{\"name\": \"samsung\", \"price\": 150000, \"ram\": 16}]\n",
        "user_input = input(\"Enter the phone name:\")\n",
        "found_phone = None\n",
        "for phone in phones:\n",
        "   if user_input.upper() == phone[\"name\"].upper():\n",
        "     found_phone = phone\n",
        "\n",
        "if found_phone:\n",
        "   print(f\"{found_phone['name']} {'is cost about ₹'}{found_phone['price']} {'and has ram of'} {found_phone['ram']}{'GB'}\")\n",
        "else:\n",
        "   print(\"no data found\")"
      ]
    },
    {
      "cell_type": "code",
      "execution_count": null,
      "metadata": {
        "colab": {
          "base_uri": "https://localhost:8080/"
        },
        "id": "zcY2j1wjc0dp",
        "outputId": "af93731c-8e27-47ec-a63e-a87da68fe47e"
      },
      "outputs": [
        {
          "name": "stdout",
          "output_type": "stream",
          "text": [
            "how many items:1\n",
            "Enter product name:Rice \n",
            "Enter price:39\n",
            "Enter quantity:39\n",
            "The grand cost of the cart is ₹1521\n",
            "The maximum cost is used to buy Rice  worth ₹1521\n"
          ]
        }
      ],
      "source": [
        "try:\n",
        "    products = []\n",
        "    n = int(input(\"how many items:\"))\n",
        "    for i in range(n):\n",
        "        name = input(\"Enter product name:\")\n",
        "        price = int(input(\"Enter price:\"))\n",
        "        quantity = int(input(\"Enter quantity:\"))\n",
        "\n",
        "        product = {\"name\": name, \"price\": price, \"quantity\": quantity}\n",
        "        products.append(product)\n",
        "\n",
        "    total_value = 0\n",
        "    maximum_value = 0\n",
        "    maximum_product = \"\"\n",
        "\n",
        "\n",
        "    for product in products:\n",
        "        value = product[\"price\"] * product[\"quantity\"]\n",
        "        total_value += value\n",
        "\n",
        "        if value > maximum_value:\n",
        "          maximum_value = value\n",
        "          maximum_product = product[\"name\"]\n",
        "\n",
        "    print(f\"{'The grand cost of the cart is ₹'}{total_value}\")\n",
        "    print(f\"{'The maximum cost is used to buy'} {maximum_product} {'worth ₹'}{maximum_value}\")\n",
        "\n",
        "except ValueError:\n",
        "    print(\"Enter valid number\")\n",
        "except Exception as e:\n",
        "    print(f\"an unexpected error occurred: {e}\")"
      ]
    },
    {
      "cell_type": "code",
      "execution_count": null,
      "metadata": {
        "colab": {
          "base_uri": "https://localhost:8080/"
        },
        "id": "8wLdvZAtSLbI",
        "outputId": "0a96e6db-0b65-4715-ff11-83efda26f47f"
      },
      "outputs": [
        {
          "name": "stdout",
          "output_type": "stream",
          "text": [
            "The students who has even marks:\n",
            "zoro 566\n",
            "Naruto 532\n",
            "itachi 530\n",
            "The students who has odd marks:\n",
            "luffy 555\n",
            "pain 559\n"
          ]
        }
      ],
      "source": [
        "students = [{\"name\": \"luffy\", \"mark\": 555},\n",
        "{\"name\": \"zoro\", \"mark\": 566},\n",
        "{\"name\": \"Naruto\", \"mark\": 532},\n",
        "{\"name\": \"itachi\", \"mark\": 530},\n",
        "{\"name\": \"pain\", \"mark\": 559}]\n",
        "\n",
        "even_marks = [student for student in students if student[\"mark\"] % 2 ==0]\n",
        "print(\"The students who has even marks:\")\n",
        "for student in even_marks:\n",
        "    print(f\"{student['name']} {student['mark']}\")\n",
        "odd_marks = [student for student in students if student[\"mark\"] % 2 != 0]\n",
        "print(\"The students who has odd marks:\")\n",
        "for student in odd_marks:\n",
        "    print(f\"{student['name']} {student['mark']}\")"
      ]
    },
    {
      "cell_type": "code",
      "execution_count": null,
      "metadata": {
        "colab": {
          "base_uri": "https://localhost:8080/"
        },
        "id": "RxCq8ra7Z-KB",
        "outputId": "95d4b0ad-a517-4bf3-812e-86c040159247"
      },
      "outputs": [
        {
          "name": "stdout",
          "output_type": "stream",
          "text": [
            "{'I': 5, 'LOVE': 1, 'HER': 4, 'SO': 1, 'MUCH': 1, 'THAT': 2, 'WHEN': 3, 'SHE': 3, 'TELL': 1, 'ME': 3, 'TO': 1, 'QUIT': 2, 'MUSIC': 2, 'FOR': 2, 'COMPLETELY': 1, 'AND': 1, 'AFTER': 1, 'LEFT': 2, 'WITH': 2, 'NOTHING': 2, 'AM': 1, 'HAVE': 2, 'ALL': 1, 'THINGS': 1, 'BUT': 1}\n"
          ]
        }
      ],
      "source": [
        "sentence = \" I love her so much that when she tell me to quit music for her I completely quit music for her and after that she left me with nothing when I am with her I have all things but when she left me I have nothing\"\n",
        "uppercase_sentence = sentence.upper()\n",
        "word_list = uppercase_sentence.split()\n",
        "word_count = {}\n",
        "for word in word_list:\n",
        "   if word in word_count:\n",
        "      word_count[word] += 1\n",
        "   else:\n",
        "      word_count[word] = 1\n",
        "print(word_count)"
      ]
    },
    {
      "cell_type": "code",
      "execution_count": null,
      "metadata": {
        "colab": {
          "base_uri": "https://localhost:8080/"
        },
        "id": "4Tz35j8Fb65-",
        "outputId": "384222f8-6be0-40a8-d1cf-60b8970c3722"
      },
      "outputs": [
        {
          "name": "stdout",
          "output_type": "stream",
          "text": [
            "Enter product name:Hp\n",
            "Enter Price:30000\n",
            "Enter quantity:2\n",
            "Enter product name:Apple\n",
            "Enter Price:69999\n",
            "Enter quantity:1\n",
            "Enter product name:Dell\n",
            "Enter Price:45999\n",
            "Enter quantity:2\n",
            "Enter product name:Asus\n",
            "Enter Price:89999\n",
            "Enter quantity:1\n",
            "Enter product name:Samsung \n",
            "Enter Price:80000\n",
            "Enter quantity:3\n",
            "The total shoping cost is ₹ 551996\n",
            "The maximum money is used to buy: Samsung  worth of ₹240000\n",
            "The lowest price of product is: Samsung  worth of ₹60000\n"
          ]
        }
      ],
      "source": [
        "\n",
        "\n",
        "try:\n",
        "\n",
        "    products = []\n",
        "    n = 5\n",
        "    for i in range(5):\n",
        "       name = input(\"Enter product name:\")\n",
        "       price = int(input(\"Enter Price:\"))\n",
        "       stock = int(input(\"Enter quantity:\"))\n",
        "       product = {\"name\": name, \"price\": price, \"stock\": stock}\n",
        "       products.append(product)\n",
        "\n",
        "    total_value = 0\n",
        "    maximum_value = 0\n",
        "    maximum_product = \"\"\n",
        "    minimum_value = float('inf')\n",
        "    minimum_product = \"\"\n",
        "\n",
        "\n",
        "    for product in products:\n",
        "        value = product[\"price\"] * product[\"stock\"]\n",
        "        total_value += value\n",
        "\n",
        "        if value > maximum_value:\n",
        "          maximum_value = value\n",
        "          maximum_product = product[\"name\"]\n",
        "        if value < minimum_value:\n",
        "            minimum_value = value\n",
        "            minimum_product = product[\"name\"]\n",
        "\n",
        "    print(f\"{'The total shoping cost is ₹'} {total_value}\")\n",
        "    print(f\"{'The maximum money is used to buy:'} {maximum_product} {'worth of ₹'}{maximum_value}\")\n",
        "    print(f\"{'The lowest price of product is:'} {minimum_product} {'worth of ₹'}{minimum_value}\")\n",
        "except ValueError:\n",
        "    print(\"Enter a valid number\")\n",
        "except Exception as e:\n",
        "    print(f\"An unknown error occurred: as {e}\")"
      ]
    },
    {
      "cell_type": "code",
      "execution_count": null,
      "metadata": {
        "colab": {
          "base_uri": "https://localhost:8080/"
        },
        "id": "fyRq-8zmZ7yz",
        "outputId": "24e40d0b-1f2f-4902-9054-5bed4d4541fe"
      },
      "outputs": [
        {
          "name": "stdout",
          "output_type": "stream",
          "text": [
            "you are in top 1 % luffy with the mark of 540\n",
            "you are in top 1 % zoro with the mark of 520\n",
            "you are in top 1 % sanji with the mark of 521\n",
            "you passed chopper with mark 430\n"
          ]
        }
      ],
      "source": [
        "students = [{\"name\": \"luffy\", \"mark\": 540},\n",
        "{\"name\": \"zoro\", \"mark\": 520},\n",
        "{\"name\": \"sanji\", \"mark\": 521},\n",
        "{\"name\": \"chopper\", \"mark\": 430}]\n",
        "\n",
        "for student in students:\n",
        "     name = student[\"name\"]\n",
        "     mark = student[\"mark\"]\n",
        "\n",
        "     if mark > 500:\n",
        "        print(f\"{'you are in top 1 % '}{student['name']} {'with the mark of'} {student['mark']}\")\n",
        "     else:\n",
        "        print(f\"{'you passed'} {student['name']} {'with mark'} {student['mark']}\")"
      ]
    },
    {
      "cell_type": "code",
      "execution_count": null,
      "metadata": {
        "colab": {
          "base_uri": "https://localhost:8080/"
        },
        "id": "lYeJ_tW8cOuE",
        "outputId": "640dd397-a676-43b0-c819-5389dc467ada"
      },
      "outputs": [
        {
          "name": "stdout",
          "output_type": "stream",
          "text": [
            "meat worth rupees of ₹300 has stock of: 20\n",
            "fish has less than 10 please refil stock\n",
            "tomato has less than 10 please refil stock\n"
          ]
        }
      ],
      "source": [
        "products = [{ \"name\": \"meat\", \"price\": 300, \"stock\": 20},\n",
        "{\"name\": \"fish\", \"price\": 400, \"stock\": 10},\n",
        "{\"name\": \"tomato\", \"price\": 40, \"stock\": 8}]\n",
        "\n",
        "\n",
        "\n",
        "for product in products:\n",
        "    name = product[\"name\"]\n",
        "    price = product[\"price\"]\n",
        "    stock = product[\"stock\"]\n",
        "\n",
        "    if stock > 10 :\n",
        "      print(f\"{product['name']} {'worth rupees of ₹'}{product['price']} {'has stock of:'} {product['stock']}\")\n",
        "    else:\n",
        "      print(f\"{product['name']} {'has less than 10'} {'please refil stock'}\")"
      ]
    },
    {
      "cell_type": "code",
      "execution_count": null,
      "metadata": {
        "id": "gezdvHGsIScG"
      },
      "outputs": [],
      "source": []
    },
    {
      "cell_type": "code",
      "execution_count": null,
      "metadata": {
        "colab": {
          "base_uri": "https://localhost:8080/"
        },
        "id": "L9k3_sQ0YLiW",
        "outputId": "8780e54a-f2cc-4198-bc0e-f0fb4e765b21"
      },
      "outputs": [
        {
          "name": "stdout",
          "output_type": "stream",
          "text": [
            "Search the Product:5\n",
            "data not found\n",
            "data not found\n",
            "data not found\n"
          ]
        }
      ],
      "source": [
        "try:\n",
        "    products = [{\"name\": \"rice\", \"price\": 30},\n",
        "    {\"name\": \"fish\", \"price\": 350},\n",
        "    {\"name\": \"meat\", \"price\": 450}]\n",
        "    n = 1\n",
        "    user_input = input(\"Search the Product:\")\n",
        "    found_product = None\n",
        "    for product in products:\n",
        "        name = product[\"name\"]\n",
        "        price = product[\"price\"]\n",
        "        if user_input.lower() == product[\"name\"].lower():\n",
        "\n",
        "\n",
        "           found_product = product\n",
        "           print(f\"{'product name:'} {product['name']} {'and worth of ₹'}{product['price']}\")\n",
        "\n",
        "           break\n",
        "\n",
        "        if not found_product:\n",
        "           print(\"data not found\")\n",
        "\n",
        "\n",
        "except ValueError:\n",
        "     print(\"Enter Valid name\")"
      ]
    },
    {
      "cell_type": "code",
      "execution_count": null,
      "metadata": {
        "colab": {
          "base_uri": "https://localhost:8080/"
        },
        "id": "ojHZUrXqg6wM",
        "outputId": "96fc5e01-4f85-4266-96d7-a4cda6bcff7f"
      },
      "outputs": [
        {
          "name": "stdout",
          "output_type": "stream",
          "text": [
            "Arman you got A+ Grade with the mark of 589 out of 600\n",
            "aman you got A Grade with the mark of 551 out of 600\n",
            "atik you got B Grade with the mark of 456 out of 600\n",
            "atif you have failed try hard next time\n",
            "arijit you got A+ Grade with the mark of 590 out of 600\n",
            "\n",
            "Grade Distribution:\n",
            "A+ Grade: 2\n",
            "A Grade: 1\n",
            "B Grade: 1\n",
            "F Grade: 1\n"
          ]
        }
      ],
      "source": [
        "students = [{\"name\": \"Arman\", \"mark\": 589},\n",
        "{\"name\": \"aman\", \"mark\": 551},\n",
        "{\"name\": \"atik\", \"mark\": 456},\n",
        "{\"name\": \"atif\", \"mark\": 102},\n",
        "{\"name\": \"arijit\", \"mark\": 590}]\n",
        "\n",
        "\n",
        "a_plus_count = 0\n",
        "a_count = 0\n",
        "b_count = 0\n",
        "f_count = 0\n",
        "\n",
        "for student in students:\n",
        "    name = student[\"name\"]\n",
        "    mark = student[\"mark\"]\n",
        "\n",
        "\n",
        "    if mark > 560:\n",
        "      print(f\"{student['name']} {'you got A+ Grade '}{'with the mark of '}{student['mark']} {'out of 600'}\")\n",
        "      a_plus_count += 1\n",
        "    elif mark > 460:\n",
        "      print(f\"{student['name']} {'you got A Grade '}{'with the mark of '}{student['mark']} {'out of 600'}\")\n",
        "      a_count += 1\n",
        "    elif mark > 360:\n",
        "      print(f\"{student['name']} {'you got B Grade '}{'with the mark of '}{student['mark']} {'out of 600'}\")\n",
        "      b_count += 1\n",
        "    else:\n",
        "      print(f\"{student['name']} {'you have failed '}{'try hard next time'}\")\n",
        "      f_count += 1\n",
        "print(\"\\nGrade Distribution:\")\n",
        "print(f\"{'A+ Grade:'} {a_plus_count}\")\n",
        "print(f\"{'A Grade:'} {a_count}\")\n",
        "print(f\"{'B Grade:'} {b_count}\")\n",
        "print(f\"{'F Grade:'} {f_count}\")"
      ]
    },
    {
      "cell_type": "code",
      "execution_count": null,
      "metadata": {
        "colab": {
          "base_uri": "https://localhost:8080/"
        },
        "id": "OIpUiV1cm17Z",
        "outputId": "85a4fcae-4797-400f-8a84-9e62651d2dc8"
      },
      "outputs": [
        {
          "name": "stdout",
          "output_type": "stream",
          "text": [
            "The average game size is : 42.60GB\n",
            "The game which has more size than average is:\n",
            "- Genshin (80 GB)\n",
            "- Fortnite (43 GB)\n"
          ]
        }
      ],
      "source": [
        "games = [{\"name\": \"PUBG\", \"size\": 20}, {\"name\": \"COD\", \"size\": 30}, {\"name\": \"Genshin\", \"size\": 80},\n",
        "{\"name\": \"Fortnite\", \"size\": 43},\n",
        "{\"name\": \"GOW\", \"size\": 40}]\n",
        "total_size = 0\n",
        "for game in games:\n",
        "   total_size += game[\"size\"]\n",
        "\n",
        "\n",
        "average_size = total_size/len(games)\n",
        "print(f\"{'The average game size is :'} {average_size:.2f}{'GB'}\")\n",
        "print(f\"{'The game which has more size than average is:'}\")\n",
        "\n",
        "for game in games:\n",
        "    if game[\"size\"] > average_size:\n",
        "       print(f\"- { game['name']} ({game['size']} {'GB'})\")"
      ]
    },
    {
      "cell_type": "code",
      "execution_count": null,
      "metadata": {
        "colab": {
          "base_uri": "https://localhost:8080/"
        },
        "id": "JHW-7KMk2uhy",
        "outputId": "cf5868f5-c5c1-484c-bb9e-57cb5e545564"
      },
      "outputs": [
        {
          "name": "stdout",
          "output_type": "stream",
          "text": [
            "Enter The product: Rice\n",
            "Enter the price: 50\n",
            "Enter the quantity: 100\n",
            "Enter The product: Oil\n",
            "Enter the price: 500\n",
            "Enter the quantity: 6\n",
            "Enter The product: Spices\n",
            "Enter the price: 500\n",
            "Enter the quantity: 1\n",
            "Enter The product: Pulse\n",
            "Enter the price: 100\n",
            "Enter the quantity: 8\n",
            "Enter The product: Veg\n",
            "Enter the price: 1000\n",
            "Enter the quantity: 4\n",
            "the cart value is crossing the limit of ₹10000\n",
            "you cart value is : ₹13300\n"
          ]
        }
      ],
      "source": [
        "\n",
        "try:\n",
        "    products = []\n",
        "    n = 5\n",
        "    for i in range(n):\n",
        "      name = input(\"Enter The product: \")\n",
        "      price = int(input(\"Enter the price: \"))\n",
        "      quantity = int(input(\"Enter the quantity: \"))\n",
        "      product = {\"name\": name, \"price\": price, \"quantity\": quantity}\n",
        "      products.append(product)\n",
        "\n",
        "    total_value = 0\n",
        "    maximum_value = 0\n",
        "    maximum_product = \"\"\n",
        "\n",
        "\n",
        "    for product in products:\n",
        "         value = product[\"price\"] * product[\"quantity\"]\n",
        "         total_value += value\n",
        "\n",
        "         if total_value > 10000:\n",
        "            print(f\"{'the cart value is crossing the limit of ₹10000'}\")\n",
        "            continue\n",
        "\n",
        "         if value > maximum_value:\n",
        "            maximum_value = value\n",
        "            maximum_product = product[\"name\"]\n",
        "\n",
        "    print(f\"{'you total cart value is : ₹'}{total_value}\")\n",
        "    print(f\"{'the most costed product is:\"} {maximum_product} {'worth of ₹'}{maximum_value}\")\n",
        "except ValueError:\n",
        "    print(\"Enter Valid Input\")"
      ]
    },
    {
      "cell_type": "code",
      "execution_count": null,
      "metadata": {
        "collapsed": true,
        "id": "2H2si882Frka"
      },
      "outputs": [],
      "source": [
        "sentences = \" I love you so much I believe we are made for each other do you remember when we use to a single umbrella for rain\"\n",
        "lowercase_sentence = sentences.lower()\n",
        "word_list = lowercase_sentence.split()\n",
        "vowel = {'a', 'i', 'e', 'o', 'u'}\n",
        "\n",
        "for word in word_list:\n",
        "    if word and word[0] in vowel:\n",
        "\n",
        "       print(f\"'{word}' 'start with a viwel'\")"
      ]
    },
    {
      "cell_type": "code",
      "execution_count": null,
      "metadata": {
        "colab": {
          "base_uri": "https://localhost:8080/"
        },
        "id": "rWa7BbvPIaJR",
        "outputId": "1e8a1a9c-adaa-47f0-8e4d-39bd0e6cc0bf"
      },
      "outputs": [
        {
          "output_type": "stream",
          "name": "stdout",
          "text": [
            "Enter the sentenceI like you\n",
            "The words which is equal or greater than four are:\n",
            "like\n"
          ]
        }
      ],
      "source": [
        "sentence = input(\"Enter the sentence\")\n",
        "more_words = sentence.split()\n",
        "word_lists = [word for word in more_words if len(word) >= 4]\n",
        "print(\"The words which is equal or greater than four are:\")\n",
        "for word in word_lists:\n",
        "   print(word)"
      ]
    },
    {
      "cell_type": "code",
      "execution_count": null,
      "metadata": {
        "colab": {
          "base_uri": "https://localhost:8080/"
        },
        "id": "XiuNcFBDRvae",
        "outputId": "4beff6d8-6b8b-40b9-bc4c-722f67de7b25"
      },
      "outputs": [
        {
          "name": "stdout",
          "output_type": "stream",
          "text": [
            "Enter your Budget:90000\n",
            "phone in your budget of ₹90000\n",
            "-iPhone (₹75000)\n",
            "-OnePlus (₹55000)\n",
            "-POCO (₹20000)\n"
          ]
        }
      ],
      "source": [
        "phones = [{\"name\": \"iPhone\", \"price\": 75000}, {\"name\": \"OnePlus\", \"price\": 55000}, {\"name\": \"POCO\", \"price\": 20000}]\n",
        "budget = int(input(\"Enter your Budget:\"))\n",
        "print(f\"{'phone in your budget of ₹'}{budget}\")\n",
        "found_phone = None\n",
        "for phone in phones:\n",
        "    if phone[\"price\"] <= budget:\n",
        "        print(f\"-{phone['name']} (₹{phone['price']})\")\n",
        "        found_phone = phone\n",
        "if not found_phone:\n",
        "     print(\"No phones found within your budget \")"
      ]
    },
    {
      "cell_type": "code",
      "execution_count": null,
      "metadata": {
        "colab": {
          "base_uri": "https://localhost:8080/"
        },
        "id": "92fe8ed9",
        "outputId": "05593781-5a68-43ba-8703-fcd352309629"
      },
      "outputs": [
        {
          "name": "stdout",
          "output_type": "stream",
          "text": [
            "Enter your budget: 90000\n",
            "\n",
            "Phones within your budget of ₹90000:\n",
            "- iPhone (₹75000)\n",
            "- OnePlus (₹55000)\n",
            "- POCO (₹20000)\n"
          ]
        }
      ],
      "source": [
        "budget = int(input(\"Enter your budget: \"))\n",
        "\n",
        "print(f\"\\nPhones within your budget of ₹{budget}:\")\n",
        "found_phones = False\n",
        "for phone in phones:\n",
        "    if phone[\"price\"] <= budget:\n",
        "        print(f\"- {phone['name']} (₹{phone['price']})\")\n",
        "        found_phones = True\n",
        "\n",
        "if not found_phones:\n",
        "    print(\"No phones found within your budget.\")"
      ]
    },
    {
      "cell_type": "code",
      "execution_count": null,
      "metadata": {
        "colab": {
          "base_uri": "https://localhost:8080/"
        },
        "id": "jcR5fIef11GW",
        "outputId": "e1af6923-cc14-449a-bec3-92d6247f7396"
      },
      "outputs": [
        {
          "name": "stdout",
          "output_type": "stream",
          "text": [
            "you are on top 1% list Naruto with the mark 545\n",
            "you are on top 1% list Ichigo with the mark 565\n",
            "Vini you have passed with Mark of 430\n",
            "Yamal you have passed with Mark of 450\n"
          ]
        }
      ],
      "source": [
        "with open(\"students.txt\",\"w\") as file:\n",
        "     file.write(\"Naruto,545\\n\")\n",
        "     file.write(\"Ichigo,565\\n\")\n",
        "     file.write(\"Vini,430\\n\")\n",
        "     file.write(\"Yamal, 450\\n\")\n",
        "\n",
        "\n",
        "\n",
        "with open(\"students.txt\", \"r\") as file:\n",
        "     lines = file.readlines()\n",
        "\n",
        "for line in lines:\n",
        "    line = line.strip()\n",
        "    name, mark = line.split(\",\")\n",
        "    mark = int(mark)\n",
        "\n",
        "\n",
        "    if mark >= 500:\n",
        "      print(f\"{'you are on top 1% list'} {name} {'with the mark'} {mark}\")\n",
        "    else:\n",
        "      print(f\"{name} {'you have passed with Mark of'} {mark}\")"
      ]
    },
    {
      "cell_type": "code",
      "execution_count": null,
      "metadata": {
        "colab": {
          "base_uri": "https://localhost:8080/"
        },
        "id": "8PbzFpFe6Sge",
        "outputId": "b37e3c9c-84ce-4d93-a927-956f57f8c45f"
      },
      "outputs": [
        {
          "name": "stdout",
          "output_type": "stream",
          "text": [
            "Enter Phone Name: OnePlus\n",
            "phone name is oneplus worth of ₹60000\n"
          ]
        }
      ],
      "source": [
        "try:\n",
        "    phones = [{\"name\": \"iphone\", \"price\": 70000},\n",
        "             {\"name\": \"oneplus\", \"price\": 60000},\n",
        "             {\"name\": \"samsung\", \"price\": 90000}]\n",
        "    user_input = input(\"Enter Phone Name: \")\n",
        "    found_phone = None\n",
        "    for phone in phones:\n",
        "        name = phone[\"name\"]\n",
        "        price = phone[\"price\"]\n",
        "\n",
        "\n",
        "        if user_input.lower() == phone[\"name\"].lower():\n",
        "           found_phone = phone\n",
        "           print(f\"{'phone name is '}{phone['name']} { 'worth of ₹'}{phone['price']}\")\n",
        "           break\n",
        "\n",
        "    if not found_phone:\n",
        "        print(f\"{user_input} {'not in the list'}\")\n",
        "\n",
        "\n",
        "except ValueError:\n",
        "    print(\"Enter valid name\")"
      ]
    },
    {
      "cell_type": "code",
      "execution_count": null,
      "metadata": {
        "colab": {
          "base_uri": "https://localhost:8080/"
        },
        "id": "1dhmBJqwHS8V",
        "outputId": "201f2a6c-4525-43a4-f454-d9edcc0eda71"
      },
      "outputs": [
        {
          "name": "stdout",
          "output_type": "stream",
          "text": [
            "awesome\n",
            "earlier\n"
          ]
        }
      ],
      "source": [
        "with open(\"sentences.txt\", \"w\") as file:\n",
        "     file.write(\" you ase awesome dude I wish I have meet you earlier\")\n",
        "with open(\"sentences.txt\", \"r\") as file:\n",
        "     content = file.read()\n",
        "lowercase_content = content.lower()\n",
        "word_list = lowercase_content.split()\n",
        "long_word = [word for word in word_list if len(word) > 4]\n",
        "for word in long_word:\n",
        "\n",
        "   print(word)"
      ]
    },
    {
      "cell_type": "code",
      "execution_count": null,
      "metadata": {
        "colab": {
          "base_uri": "https://localhost:8080/"
        },
        "id": "OYPM5BmPPXv7",
        "outputId": "905fb709-b608-4175-ca34-07f6c0d8235b"
      },
      "outputs": [
        {
          "name": "stdout",
          "output_type": "stream",
          "text": [
            "The word which contains six or more letters are :\n",
            "marvels\n",
            "universe\n",
            "superhero\n",
            "universe\n",
            "baddass\n",
            "villain\n",
            "doomsday\n",
            "marvel\n",
            "villain\n",
            "thanos\n"
          ]
        }
      ],
      "source": [
        "with open(\"sentences.txt\", \"w\") as file:\n",
        "    file.write(\"marvels universe has more superhero than DC universe but has more baddass villain like doomsday joker but marvel has also has some villain like Thanos etc\")\n",
        "with open(\"sentences.txt\", \"r\") as file:\n",
        "    content = file.read()\n",
        "lower_case = content.lower()\n",
        "word_list = lower_case.split()\n",
        "long_word = [word for word in word_list if len(word) >= 6]\n",
        "print(\"The word which contains six or more letters are :\")\n",
        "for word in long_word:\n",
        "   print(word)"
      ]
    },
    {
      "cell_type": "code",
      "execution_count": null,
      "metadata": {
        "colab": {
          "base_uri": "https://localhost:8080/"
        },
        "id": "UbDwWa1eT4dM",
        "outputId": "3046daaf-7f32-4189-e6d7-1eb9e168e0a6"
      },
      "outputs": [
        {
          "output_type": "stream",
          "name": "stdout",
          "text": [
            "The total cost of products is ₹6400\n",
            "Most of cost are used to buy meat worth of ₹2800 out of ₹6400\n"
          ]
        }
      ],
      "source": [
        "products  = [{\"name\": \"rice\", \"price\": 60, \"quantity\": 30}, {\"name\": \"meat\", \"price\": 560, \"quantity\": 5}, {\"name\": \"fish\", \"price\": 450, \"quantity\": 4}]\n",
        "\n",
        "total_value = 0\n",
        "maximum_value = 0\n",
        "maximum_product = \"\"\n",
        "for product in products:\n",
        "     name = product[\"name\"]\n",
        "     price = product[\"price\"]\n",
        "     quantity = product[\"quantity\"]\n",
        "\n",
        "     if quantity == 0:\n",
        "\n",
        "       continue\n",
        "\n",
        "     value = price * quantity\n",
        "     total_value += value\n",
        "\n",
        "     if value > maximum_value:\n",
        "        maximum_value = value\n",
        "        maximum_product = product[\"name\"]\n",
        "print(f\"{'The total cost of products is ₹'}{total_value}\")\n",
        "print(f\"{'Most of cost are used to buy'} {maximum_product} {'worth of ₹'}{maximum_value} {'out of ₹'}{total_value}\")"
      ]
    },
    {
      "cell_type": "code",
      "source": [
        "students = [{\"name\": \"luffy\", \"mark\": 267},\n",
        "{\"name\": \"zoro\", \"mark\": 569},\n",
        "{\"name\": \"ussop\", \"mark\": 500},\n",
        "{\"name\": \"chopper\", \"mark\": 380}]\n",
        "for student in students:\n",
        "    name = student[\"name\"]\n",
        "    mark = student[\"mark\"]\n",
        "\n",
        "    if mark >= 560:\n",
        "      print(f\"{student['name']} {'you got A+ grade in exam with Mark of'} {student['mark']}\")\n",
        "    elif mark >= 460:\n",
        "      print(f\"{student['name']} {'you got A grade in exam with Mark of'} {student['mark']}\")\n",
        "    elif mark >= 360:\n",
        "      print(f\"{student['name']} {'you got B grade in exam with Mark of'} {student['mark']}\")\n",
        "    else:\n",
        "      print(f\"{student['name']} {'you have failed'}\")"
      ],
      "metadata": {
        "colab": {
          "base_uri": "https://localhost:8080/"
        },
        "id": "VddMBl915GMM",
        "outputId": "d77bddec-0692-4c9a-ea4b-21f096dd5183"
      },
      "execution_count": null,
      "outputs": [
        {
          "output_type": "stream",
          "name": "stdout",
          "text": [
            "luffy you have failed\n",
            "zoro you got A+ grade in exam with Mark of 569\n",
            "ussop you got A grade in exam with Mark of 500\n",
            "chopper you got B grade in exam with Mark of 380\n"
          ]
        }
      ]
    },
    {
      "cell_type": "code",
      "source": [
        "try:\n",
        "    products = [{\"name\": \"Apple\", \"price\": 99},\n",
        "                {\"name\": \"Orange\", \"price\": 88},\n",
        "                {\"name\": \"nut\", \"price\": 300}]\n",
        "\n",
        "    found_products = []\n",
        "    user_input = input(\"Enter a latter to search:\")\n",
        "\n",
        "    if not user_input:\n",
        "        print(f\"{'Enter a Valid latter:'}\")\n",
        "    else:\n",
        "        search_latter = user_input[0].lower()\n",
        "\n",
        "        for product in products:\n",
        "           if product[\"name\"].lower().startswith(search_latter):\n",
        "             found_products.append(product)\n",
        "\n",
        "        if found_products:\n",
        "           print(f\"{'The product start with the :'} {user_input[0]}\")\n",
        "           for product in found_products:\n",
        "              print(f\"- {product['name']} {'price of ₹'}{product['price']}\")\n",
        "\n",
        "\n",
        "        else:\n",
        "           print(f\"{'No product found starts with'} {user_input[0]}\")\n",
        "\n",
        "except ValueError:\n",
        "    print(\"valid later\")"
      ],
      "metadata": {
        "colab": {
          "base_uri": "https://localhost:8080/"
        },
        "id": "KE78BcpW_oSc",
        "outputId": "7a853154-e5cc-438c-f82d-9a3c4ad2e2b1"
      },
      "execution_count": null,
      "outputs": [
        {
          "output_type": "stream",
          "name": "stdout",
          "text": [
            "Enter a latter to search:A\n",
            "The product start with the : A\n",
            "- Apple price of ₹99\n"
          ]
        }
      ]
    },
    {
      "cell_type": "code",
      "source": [
        "sentences = input(\"Enter your sentence:\")\n",
        "lower_case = sentences.lower()\n",
        "word_list = lower_case.split()\n",
        "vowel = {'a', 'e', 'i', 'o', 'u'}\n",
        "total_count = sum(c.isalpha() for c in sentences)\n",
        "print(total_count)\n",
        "\n",
        "\n",
        "for word in word_list:\n",
        "   if word and word[0] in vowel:\n",
        "      print(f\"{word} {'start with vowel'}\")"
      ],
      "metadata": {
        "colab": {
          "base_uri": "https://localhost:8080/"
        },
        "id": "eink-4dFvsvi",
        "outputId": "569f78f7-616f-4fff-a907-03a0ce41599d"
      },
      "execution_count": null,
      "outputs": [
        {
          "output_type": "stream",
          "name": "stdout",
          "text": [
            "Enter your sentence:I love i u e\n",
            "8\n",
            "i start with vowel\n",
            "i start with vowel\n",
            "u start with vowel\n",
            "e start with vowel\n"
          ]
        }
      ]
    },
    {
      "cell_type": "code",
      "source": [
        "with open(\"students.txt\", \"w\") as file:\n",
        "     file.write(\"sanji,543\\n\")\n",
        "     file.write(\"ussop,460\\n\")\n",
        "     file.write(\"nami, 300\\n\")\n",
        "\n",
        "with open(\"students.txt\", \"r\") as file:\n",
        "    lines = file.readlines()\n",
        "\n",
        "for line in lines:\n",
        "    line = line.strip()\n",
        "    name, mark = line.split(\",\")\n",
        "    mark = int(mark)\n",
        "\n",
        "    if mark >= 460:\n",
        "       print(f\"{name} {'you are passed '} {'with Mark:'} {mark}\")\n",
        "    else:\n",
        "       print(f\"{name} {'you have failed'}\")"
      ],
      "metadata": {
        "colab": {
          "base_uri": "https://localhost:8080/"
        },
        "id": "xi4GfZvZSL-_",
        "outputId": "85c6ba95-3fef-44c8-ea55-46b8a4e870f9"
      },
      "execution_count": null,
      "outputs": [
        {
          "output_type": "stream",
          "name": "stdout",
          "text": [
            "sanji you are passed  with Mark: 543\n",
            "ussop you are passed  with Mark: 460\n",
            "nami you have failed\n"
          ]
        }
      ]
    },
    {
      "cell_type": "code",
      "source": [
        "products = [{\"name\": \"rice\", \"price\": 70},\n",
        "{\"name\": \"cola\", \"price\": 135},\n",
        "{\"name\": \"meat\", \"price\": 560}]\n",
        "\n",
        "updated_products = []\n",
        "\n",
        "print(\"Please enter the quantity for each product:\")\n",
        "for product in products:\n",
        "    name = product[\"name\"]\n",
        "    price = product[\"price\"]\n",
        "    quantity = int(input(f\"Enter quantity for {name}: \"))\n",
        "    updated_products.append({\"name\": name, \"price\": price, \"quantity\": quantity})\n",
        "\n",
        "total_value = 0\n",
        "shopping_product = \"\"\n",
        "found_product = None\n",
        "\n",
        "for product in updated_products:\n",
        "    name = product[\"name\"]\n",
        "    price = product[\"price\"]\n",
        "    quantity = product[\"quantity\"]\n",
        "\n",
        "    if quantity == 0:\n",
        "       continue\n",
        "\n",
        "    value = price * quantity\n",
        "    total_value += value\n",
        "\n",
        "    # The user input for searching is not used in the current logic,\n",
        "    # so this part of the code is commented out for now.\n",
        "    # if user_input.lower() == product[\"name\"].lower():\n",
        "    #    fornd_product = product\n",
        "\n",
        "print(f\"{'Total value of the cart is ₹'}{total_value}\")"
      ],
      "metadata": {
        "colab": {
          "base_uri": "https://localhost:8080/"
        },
        "id": "6Q1t5M9IV6uI",
        "outputId": "aff5855b-e4f8-457c-93d3-237e806d1a78"
      },
      "execution_count": null,
      "outputs": [
        {
          "output_type": "stream",
          "name": "stdout",
          "text": [
            "Please enter the quantity for each product:\n",
            "Enter quantity for rice: 0\n",
            "Enter quantity for cola: 2\n",
            "Enter quantity for meat: 1\n",
            "Total value of the cart is ₹830\n"
          ]
        }
      ]
    },
    {
      "cell_type": "code",
      "source": [
        "\n",
        "try:\n",
        "    products = [{\"name\": \"rice\", \"price\": 70}, {\"name\": \"cola\", \"price\": 135}, {\"name\": \"meat\", \"price\": 560}]\n",
        "    products_list = []\n",
        "    print(\"Enter the quantity for each product\")\n",
        "    for product in products:\n",
        "        name = product[\"name\"]\n",
        "        price = product[\"price\"]\n",
        "        quantity = int(input(f\"Enter Quantity for {name}:\"))\n",
        "        products_list.append({\"name\": name, \"price\": price, \"quantity\": quantity})\n",
        "    total_value = 0\n",
        "\n",
        "    for product in products_list:\n",
        "        name = product[\"name\"]\n",
        "        price = product[\"price\"]\n",
        "        quantity = product[\"quantity\"]\n",
        "\n",
        "\n",
        "        value = price * quantity\n",
        "        total_value += value\n",
        "\n",
        "\n",
        "    print(f\"{'Total cost of product is ₹'}{total_value}\")\n",
        "except ValueError:\n",
        "    print(\"Enter a valid Number\")"
      ],
      "metadata": {
        "colab": {
          "base_uri": "https://localhost:8080/"
        },
        "id": "36KXj3hcdJwE",
        "outputId": "e9ab29dd-eed9-463a-e8f2-9cee87711051"
      },
      "execution_count": null,
      "outputs": [
        {
          "output_type": "stream",
          "name": "stdout",
          "text": [
            "Enter the quantity for each product\n",
            "Enter Quantity for rice:3\n",
            "Enter Quantity for cola:6\n",
            "Enter Quantity for meat:2\n",
            "Total cost of product is ₹2140\n"
          ]
        }
      ]
    },
    {
      "cell_type": "code",
      "source": [
        "with open(\"students.txt\",\"w\") as file:\n",
        "      file.write(\"luffy,540\\n\")\n",
        "      file.write(\"zoro,580\\n\")\n",
        "      file.write(\"sanji,490\\n\")\n",
        "      file.write(\"chooper,200\\n\")\n",
        "with open(\"students.txt\",\"r\") as file:\n",
        "      lists = file.readlines()\n",
        "for list in lists:\n",
        "     list = list.strip()\n",
        "     name, mark = list.split(\",\")\n",
        "     mark = int(mark)\n",
        "\n",
        "\n",
        "     if mark > 560:\n",
        "        print(f\"{name} {'you got A+ grade with the mark of : '}{mark}\")\n",
        "     elif mark > 500:\n",
        "        print(f\"{name} {'you got A grade with the mark of : '}{mark}\")\n",
        "     elif mark > 460:\n",
        "        print(f\"{name} {'you got B grade with the mark of : '}{mark}\")\n",
        "     else:\n",
        "        print(f\"{name} {'you fail in exam , you only got mark of : '}{mark}\")"
      ],
      "metadata": {
        "colab": {
          "base_uri": "https://localhost:8080/"
        },
        "id": "8PMnHrUAvj2H",
        "outputId": "e31ad254-4392-44f3-f65b-b05d02630969"
      },
      "execution_count": null,
      "outputs": [
        {
          "output_type": "stream",
          "name": "stdout",
          "text": [
            "luffy you got A grade with the mark of : 540\n",
            "zoro you got A+ grade with the mark of : 580\n",
            "sanji you got B grade with the mark of : 490\n",
            "chooper you fail in exam , you only got mark of : 200\n"
          ]
        }
      ]
    },
    {
      "cell_type": "code",
      "source": [
        "products = [{\"name\": \"iphone\", \"price\": 65000},\n",
        "{\"name\": \"samsung\", \"price\": 80000},\n",
        "{\"name\": \"oneplus\", \"price\": 66000},\n",
        "{\"name\": \"HMD\", \"price\": 40000}]\n",
        "product_list = sorted(products, key=lambda x: x[\"price\"], reverse=True)\n",
        "for product in product_list:\n",
        "    name = product[\"name\"]\n",
        "    price = product[\"price\"]\n",
        "print(f\"{'The most expensive product is:'} {product_list[0]['name']} {'worth of ₹'}{product_list[0]['price']}\")\n",
        "print(f\"{'The 2nd most expensive product is:'} {product_list[1]['name']} {'worth of ₹'}{product_list[1]['price']}\")"
      ],
      "metadata": {
        "colab": {
          "base_uri": "https://localhost:8080/"
        },
        "id": "Er0lklrSzIji",
        "outputId": "157f5dc7-418f-493f-c455-916ae829ab31"
      },
      "execution_count": null,
      "outputs": [
        {
          "output_type": "stream",
          "name": "stdout",
          "text": [
            "The most expensive product is: samsung worth of ₹80000\n",
            "The 2nd most expensive product is: oneplus worth of ₹66000\n"
          ]
        }
      ]
    },
    {
      "cell_type": "code",
      "source": [
        "with open(\"sentences.txt\",\"w\") as file:\n",
        "     file.write(\"I like you so much that I always kept my door open only for you I wish we kept together in each universe \")\n",
        "with open(\"sentences.txt\",\"r\") as file:\n",
        "     sentence = file.read()\n",
        "     lower_case = sentence.lower()\n",
        "     word_list = lower_case.split()\n",
        "     vowel = {'a', 'e', 'i', 'o', 'u'}\n",
        "\n",
        "     for word in word_list:\n",
        "        if word and word[0] in vowel:\n",
        "           print(f\"{word}: {'The word which starts with vowel'}\")"
      ],
      "metadata": {
        "colab": {
          "base_uri": "https://localhost:8080/"
        },
        "id": "vKQZKQEh2YUc",
        "outputId": "cf013b78-9151-4398-9c88-74d3e14cd39a"
      },
      "execution_count": null,
      "outputs": [
        {
          "output_type": "stream",
          "name": "stdout",
          "text": [
            "i: The word which starts with vowel\n",
            "i: The word which starts with vowel\n",
            "always: The word which starts with vowel\n",
            "open: The word which starts with vowel\n",
            "only: The word which starts with vowel\n",
            "i: The word which starts with vowel\n",
            "in: The word which starts with vowel\n",
            "each: The word which starts with vowel\n",
            "universe: The word which starts with vowel\n"
          ]
        }
      ]
    },
    {
      "cell_type": "code",
      "source": [
        "try:\n",
        "    products = [{\"name\": \"rice\", \"price\": 780},\n",
        "    {\"name\": \"meat\", \"price\": 699},\n",
        "    {\"name\": \"fish\", \"price\": 588}]\n",
        "\n",
        "    found_letter = None\n",
        "    user_input = input(\"Enter the letter:\")\n",
        "    sort_product = sorted(products, key=lambda x: x[\"name\"])\n",
        "    for product in sort_product:\n",
        "       if user_input.lower() == product[\"name\"][-1].lower():\n",
        "           found_product = product\n",
        "           print(f\"{product ['name']} {'price of ₹'}{product['price']}\")\n",
        "       elif user_input.lower != product[\"name\"][-1].lower():\n",
        "           print(\"Enter Valid Letter\")\n",
        "except ValueError:\n",
        "   print(f\"{user_input} {'Does not contain any product'}\")"
      ],
      "metadata": {
        "colab": {
          "base_uri": "https://localhost:8080/"
        },
        "id": "rpmWvnqpdVWN",
        "outputId": "7038f63b-644b-469c-bb05-beed364bde1e"
      },
      "execution_count": null,
      "outputs": [
        {
          "output_type": "stream",
          "name": "stdout",
          "text": [
            "Enter the letter:S\n",
            "No product found ending with S\n"
          ]
        }
      ]
    },
    {
      "cell_type": "code",
      "source": [
        "with open(\"sentences.txt\",\"w\") as file:\n",
        "     file.write(\" I like you so much that I could any thing for you\")\n",
        "with open(\"sentences.txt\",\"r\") as file:\n",
        "       sentence = file.read()\n",
        "       lower_case = sentence.lower()\n",
        "       word_list = lower_case.split()\n",
        "for word in word_list:\n",
        "   if len(word) >= 4:\n",
        "      print(word)"
      ],
      "metadata": {
        "colab": {
          "base_uri": "https://localhost:8080/"
        },
        "id": "tHI6PX07j7sc",
        "outputId": "b174ccdf-6637-45b6-fee2-cd308eae4aad"
      },
      "execution_count": null,
      "outputs": [
        {
          "output_type": "stream",
          "name": "stdout",
          "text": [
            "like\n",
            "much\n",
            "that\n",
            "could\n",
            "thing\n"
          ]
        }
      ]
    },
    {
      "cell_type": "code",
      "source": [
        "with open(\"students.txt\",\"w\") as file:\n",
        "     file.write(\"sanji,570\\n\")\n",
        "     file.write(\"zoro,555\\n\")\n",
        "     file.write(\"nami,460\\n\")\n",
        "with open(\"students.txt\",\"r\") as file:\n",
        "     student_list = file.readlines()\n",
        "\n",
        "for student in student_list:\n",
        "    student = student.strip()\n",
        "    name, mark = student.split(\",\")\n",
        "    mark = int(mark)\n",
        "\n",
        "    if mark >= 460:\n",
        "       print(f\"{name} {'you have passed with the mark: '}{ mark}\")\n",
        "    else:\n",
        "       print(f\"{name} {'you have passed with the mark: '}{ mark}\")"
      ],
      "metadata": {
        "colab": {
          "base_uri": "https://localhost:8080/"
        },
        "id": "1Pr_i7OtO1iC",
        "outputId": "bb0e0768-da22-4b9d-97b4-75db258459a6"
      },
      "execution_count": null,
      "outputs": [
        {
          "output_type": "stream",
          "name": "stdout",
          "text": [
            "sanji you have passed with the mark: 570\n",
            "zoro you have passed with the mark: 555\n",
            "nami you have passed with the mark: 460\n"
          ]
        }
      ]
    },
    {
      "cell_type": "code",
      "source": [
        "try:\n",
        "    products = [{\"name\": \"Coke\", \"price\": 60}, {\"name\": \"Chips\", \"price\": 50}, {\"name\": \"biscuits\", \"price\": 100}]\n",
        "\n",
        "    product_list = []\n",
        "    print(\"Enter The for each product :\")\n",
        "\n",
        "    for product in products:\n",
        "        name = product[\"name\"]\n",
        "        price = product[\"price\"]\n",
        "        quantity = int(input(f\"{'Enter the product quantity: '}{name} :\"))\n",
        "        product = {\"name\": name, \"price\": price, \"quantity\": quantity}\n",
        "        product_list.append(product)\n",
        "\n",
        "    total_value = 0\n",
        "\n",
        "    for product in product_list:\n",
        "        name = product[\"name\"]\n",
        "        price = product[\"price\"]\n",
        "        quantity = product[\"quantity\"]\n",
        "\n",
        "        if quantity == 0:\n",
        "           continue\n",
        "\n",
        "        value = price * quantity\n",
        "        total_value += value\n",
        "\n",
        "    print(f\"{'The Grand value of the cart is : ₹'}{total_value}\")\n",
        "\n",
        "except ValueError:\n",
        "    print(\"Enter A Valid Number \")"
      ],
      "metadata": {
        "colab": {
          "base_uri": "https://localhost:8080/"
        },
        "id": "YzD2YRfCRanB",
        "outputId": "397b1009-9f95-4f09-9f71-902f93479903"
      },
      "execution_count": null,
      "outputs": [
        {
          "output_type": "stream",
          "name": "stdout",
          "text": [
            "Enter The for each product :\n",
            "Enter the product quantity: Coke :1\n",
            "Enter the product quantity: Chips :3\n",
            "Enter the product quantity: biscuits :0\n",
            "The Grand value of the cart is : ₹210\n"
          ]
        }
      ]
    },
    {
      "cell_type": "code",
      "source": [
        "with open(\"students.txt\",\"w\") as file:\n",
        "     file.write(\"luffy,360\\n\")\n",
        "     file.write(\"zoro,560\\n\")\n",
        "     file.write(\"sanji,561\\n\")\n",
        "     file.write(\"ussop,459\\n\")\n",
        "with open(\"students.txt\",\"r\") as file:\n",
        "     list = file.readlines()\n",
        "for student in list:\n",
        "    student = student.strip()\n",
        "    name, mark = student.split(\",\")\n",
        "    mark = int(mark)\n",
        "\n",
        "    if mark > 560:\n",
        "       print(f\"{name} {'you got A+ Grade'} {'with Mark of'} {mark}\")\n",
        "    elif mark > 460:\n",
        "       print(f\"{name} {'you got A Grade'} {'with Mark of'} {mark}\")\n",
        "    elif mark > 360:\n",
        "       print(f\"{name} {'you got B Grade'} {'with Mark of'} {mark}\")\n",
        "    else:\n",
        "       print(f\"{name} {'you have failed'}\")"
      ],
      "metadata": {
        "colab": {
          "base_uri": "https://localhost:8080/"
        },
        "id": "ULdz_Qk4Vwrd",
        "outputId": "6d6200fc-9226-430e-cad4-040641d8454a"
      },
      "execution_count": null,
      "outputs": [
        {
          "output_type": "stream",
          "name": "stdout",
          "text": [
            "luffy you have failed\n",
            "zoro you got A Grade with Mark of 560\n",
            "sanji you got A+ Grade with Mark of 561\n",
            "ussop you got B Grade with Mark of 459\n"
          ]
        }
      ]
    },
    {
      "cell_type": "code",
      "source": [
        "products = [{\"name\": \"macbook\", \"price\": 110000},\n",
        "{\"name\": \"Note Book\", \"price\": 80000},\n",
        "{\"name\": \"MI Book\", \"price\": 60000}]\n",
        "\n",
        "product_list = sorted(products, key=lambda x: x[\"price\"], reverse=True)\n",
        "print(f\"{'The most expensive laptop is :'} {product_list[0]['name']} {'price of ₹'}{product_list[0]['price']}\")\n",
        "print(f\"{'The second most expensive laptop is :'} {product_list[1]['name']} {'price of ₹'}{product_list[1]['price']}\")"
      ],
      "metadata": {
        "colab": {
          "base_uri": "https://localhost:8080/"
        },
        "id": "sLRb6jZBYLcA",
        "outputId": "10b0d2cf-ed5a-4a8d-c2a8-df3e0bca3f12"
      },
      "execution_count": null,
      "outputs": [
        {
          "output_type": "stream",
          "name": "stdout",
          "text": [
            "The most expensive laptop is : macbook price of ₹110000\n",
            "The second most expensive laptop is : Note Book price of ₹80000\n"
          ]
        }
      ]
    },
    {
      "cell_type": "code",
      "source": [
        "with open(\"sentences.txt\",\"w\") as file:\n",
        "      file.write(\" i wanna live each of seconds as happy undoubtedly\")\n",
        "with open(\"sentences.txt\",\"r\") as file:\n",
        "     list = file.read()\n",
        "     lower_case = list.lower()\n",
        "     word_list = lower_case.split()\n",
        "     vowel = {'a', 'e', 'i', 'o', 'u'}\n",
        "\n",
        "for word in word_list:\n",
        "   if word and word[0] in vowel:\n",
        "      print(f\"{'The words which start with the vowel ase : '}{word}\")"
      ],
      "metadata": {
        "colab": {
          "base_uri": "https://localhost:8080/"
        },
        "id": "VkOcbXUVbJtU",
        "outputId": "8921c5a7-0fd0-4f7e-977c-da07df2c66c9"
      },
      "execution_count": null,
      "outputs": [
        {
          "output_type": "stream",
          "name": "stdout",
          "text": [
            "The words which start with the vowel ase : i\n",
            "The words which start with the vowel ase : each\n",
            "The words which start with the vowel ase : of\n",
            "The words which start with the vowel ase : as\n",
            "The words which start with the vowel ase : undoubtedly\n"
          ]
        }
      ]
    },
    {
      "cell_type": "code",
      "source": [
        "try:\n",
        "    with open(\"products.txt\",\"w\") as file:\n",
        "         file.write(\"inverter,9000\\n\")\n",
        "         file.write(\"bettary,20000\\n\")\n",
        "         file.write(\"wire,1500\\n\")\n",
        "    with open(\"products.txt\",\"r\") as file:\n",
        "         list = file.readlines()\n",
        "         user_input = input(\"Enter A letter :\")\n",
        "\n",
        "    for product in list:\n",
        "        product = product.strip()\n",
        "        name, price = product.split(\",\")\n",
        "        price = int(price)\n",
        "        if user_input.lower() == name[-1].lower():\n",
        "           print(f\"{name} {'price of ₹'}{price}\")\n",
        "           break\n",
        "        else:\n",
        "           print(f\"{user_input} {'Does not match any product'}\")\n",
        "except ValueError:\n",
        "    print(\"Enter A valid letter\")"
      ],
      "metadata": {
        "colab": {
          "base_uri": "https://localhost:8080/"
        },
        "id": "VmhwCcm-dZtz",
        "outputId": "66e49fb3-7d65-4279-d33b-94d09b9523c0"
      },
      "execution_count": null,
      "outputs": [
        {
          "output_type": "stream",
          "name": "stdout",
          "text": [
            "Enter A letter :Y\n",
            "Y Does not match any product\n",
            "bettary price of ₹20000\n"
          ]
        }
      ]
    },
    {
      "cell_type": "code",
      "source": [
        "with open(\"sentences.txt\",\"w\") as file:\n",
        "     file.write(\"I am unable to access the website is it my fault or it is the website issue \")\n",
        "with open(\"sentences.txt\",\"r\") as file:\n",
        "     list = file.read()\n",
        "     lower_case = list.lower()\n",
        "     word_list = lower_case.split()\n",
        "     word_count = Counter(word_list)\n",
        "     unique_words =[word for word, count in word_count.items() if count == 1]\n",
        "     print(\"The word is only appear in once is whole sentence are:\")\n",
        "     print(unique_words)"
      ],
      "metadata": {
        "colab": {
          "base_uri": "https://localhost:8080/"
        },
        "id": "hSL1q3tWQJSb",
        "outputId": "f8b268bf-a934-489d-d0e9-739452d95278"
      },
      "execution_count": null,
      "outputs": [
        {
          "output_type": "stream",
          "name": "stdout",
          "text": [
            "The word is only appear in once is whole sentence are:\n",
            "['i', 'am', 'unable', 'to', 'access', 'my', 'fault', 'or', 'issue']\n"
          ]
        }
      ]
    },
    {
      "cell_type": "code",
      "source": [
        "with open(\"students.txt\",\"w\") as file:\n",
        "     file.write(\"zoro,560\\n\")\n",
        "     file.write(\"robin,555\\n\")\n",
        "     file.write(\"jinbe,570\\n\")\n",
        "     file.write(\"loki,490\\n\")\n",
        "with open(\"students.txt\",\"r\") as file:\n",
        "     list = file.readlines()\n",
        "for student in list:\n",
        "     student = student.strip()\n",
        "     name, mark = student.split(\",\")\n",
        "     mark = int(mark)\n",
        "\n",
        "     if mark > 500:\n",
        "        print(f\"{name} {'you have passed the exam with the mark of '}{mark}\")\n",
        "     else:\n",
        "        print(f\"{name} {'you have failed the exam with the mark of '}{mark}\")"
      ],
      "metadata": {
        "colab": {
          "base_uri": "https://localhost:8080/"
        },
        "id": "kWmG2SZGMouQ",
        "outputId": "47f4ba6f-e5f1-4b2e-c58a-2e3fd6cae43e"
      },
      "execution_count": null,
      "outputs": [
        {
          "output_type": "stream",
          "name": "stdout",
          "text": [
            "zoro you have passed the exam with the mark of 560\n",
            "robin you have passed the exam with the mark of 555\n",
            "jinbe you have passed the exam with the mark of 570\n",
            "loki you have failed the exam with the mark of 490\n"
          ]
        }
      ]
    },
    {
      "cell_type": "code",
      "source": [
        "try:\n",
        "    products = [{\"name\": \"rice\", \"price\": 60},\n",
        "    {\"name\": \"oil\", \"price\": 250},\n",
        "    {\"name\": \"dal\", \"price\": 170}]\n",
        "    product_list = []\n",
        "\n",
        "    for product in products:\n",
        "        name = product[\"name\"]\n",
        "        price = product[\"price\"]\n",
        "        quantity = int(input(f\"{'Enter the product quantity : '}{name}:\"))\n",
        "        product = {\"name\": name, \"price\": price, \"quantity\": quantity}\n",
        "        product_list.append(product)\n",
        "    print(\"Enter the quantity for each product: \")\n",
        "\n",
        "    total_value = 0\n",
        "    for product in product_list:\n",
        "        name = product[\"name\"]\n",
        "        price = product[\"price\"]\n",
        "        quantity = product[\"quantity\"]\n",
        "\n",
        "        if quantity == 0:\n",
        "           continue\n",
        "\n",
        "        value = price * quantity\n",
        "        total_value += value\n",
        "\n",
        "    print(f\"{'The total_value of the cart is ₹'}{total_value}\")\n",
        "except ValueError:\n",
        "    print(\" Enterprises a valid input\")"
      ],
      "metadata": {
        "colab": {
          "base_uri": "https://localhost:8080/"
        },
        "id": "Om0wzaaoOJKI",
        "outputId": "5d5b4bba-1321-44ed-8469-a24d534af152"
      },
      "execution_count": null,
      "outputs": [
        {
          "output_type": "stream",
          "name": "stdout",
          "text": [
            "Enter the product quantity : rice:6\n",
            "Enter the product quantity : oil:8\n",
            "Enter the product quantity : dal:0\n",
            "Enter the quantity for each product: \n",
            "The total_value of the cart is ₹2360\n"
          ]
        }
      ]
    },
    {
      "cell_type": "code",
      "source": [
        "with open(\"students.txt\",\"w\") as file:\n",
        "     file.write(\"zoro,560\\n\")\n",
        "     file.write(\"robin,555\\n\")\n",
        "     file.write(\"jinbe,570\\n\")\n",
        "     file.write(\"loki,490\\n\")\n",
        "     file.write(\"nami, 399\\n\")\n",
        "     file.write(\"luffy,120\\n\")\n",
        "with open(\"students.txt\",\"r\") as file:\n",
        "     list = file.readlines()\n",
        "\n",
        "for student in list:\n",
        "    student = student.strip()\n",
        "    name, mark = student.split(\",\")\n",
        "    mark = int(mark)\n",
        "\n",
        "    if mark >= 560:\n",
        "       print(f\"{name} {'You got A+ grade with the mark : '}{mark}\")\n",
        "    elif mark >= 460:\n",
        "       print(f\"{name} {'You got A grade with the mark : '}{mark}\")\n",
        "    elif mark >= 360:\n",
        "       print(f\"{name} {'You got B grade with the mark : '}{mark}\")\n",
        "    else:\n",
        "       print(f\"{name} {'You got F grade with the mark : '}{mark}\")"
      ],
      "metadata": {
        "colab": {
          "base_uri": "https://localhost:8080/"
        },
        "id": "-oI207ckSidz",
        "outputId": "76bfbc99-4776-4590-d7c0-19013993bea1"
      },
      "execution_count": null,
      "outputs": [
        {
          "output_type": "stream",
          "name": "stdout",
          "text": [
            "zoro You got A+ grade with the mark : 560\n",
            "robin You got A grade with the mark : 555\n",
            "jinbe You got A+ grade with the mark : 570\n",
            "loki You got A grade with the mark : 490\n",
            "nami You got B grade with the mark : 399\n",
            "luffy You got F grade with the mark : 120\n"
          ]
        }
      ]
    },
    {
      "cell_type": "code",
      "source": [
        "products = [{\"name\": \"asus\", \"price\": 120000},\n",
        "{\"name\": \"macbook\", \"price\": 90000},\n",
        "{\"name\": \"HP\", \"price\": 85000}]\n",
        "\n",
        "expensive_product = max(products, key=lambda x: x[\"price\"])\n",
        "print(\"The most expensive product in the list is :\")\n",
        "print(f\"- {expensive_product['name']} {'worth rupees of ₹'}{expensive_product['price']}\")"
      ],
      "metadata": {
        "colab": {
          "base_uri": "https://localhost:8080/"
        },
        "id": "QB3Jlqo-bBGJ",
        "outputId": "3138afff-993e-4d26-a021-7e6257c31c5b"
      },
      "execution_count": null,
      "outputs": [
        {
          "output_type": "stream",
          "name": "stdout",
          "text": [
            "The most expensive product in the list is :\n",
            "- asus worth rupees of ₹120000\n"
          ]
        }
      ]
    },
    {
      "cell_type": "code",
      "source": [
        "with open(\"sentences.txt\",\"w\") as file:\n",
        "     file.write(\" I am not using an email for this work what is your opinion on that\")\n",
        "with open(\"sentences.txt\",\"r\") as file:\n",
        "     list = file.read()\n",
        "     lower_case = list.lower()\n",
        "     word_list = lower_case.split()\n",
        "     vowel = {'a', 'e', 'i', 'o', 'u'}\n",
        "     unique_vowel_word = []\n",
        "for word in word_list:\n",
        "   if word[0] in vowel and word_list.count(word) == 1:\n",
        "      unique_vowel_word.append(word)\n",
        "print(\"The words which only starts with vowel are :\")\n",
        "\n",
        "for word in unique_vowel_word:\n",
        "    print(word)"
      ],
      "metadata": {
        "colab": {
          "base_uri": "https://localhost:8080/"
        },
        "id": "XqqO0eVTeSXn",
        "outputId": "0d1d082a-82a9-4f9b-b1e4-9f0d8d07d4e6"
      },
      "execution_count": null,
      "outputs": [
        {
          "output_type": "stream",
          "name": "stdout",
          "text": [
            "The words which only starts with vowel are :\n",
            "i\n",
            "am\n",
            "using\n",
            "an\n",
            "email\n",
            "is\n",
            "opinion\n",
            "on\n"
          ]
        }
      ]
    },
    {
      "cell_type": "code",
      "source": [
        "try:\n",
        "    with open(\"products.txt\",\"w\") as file:\n",
        "        file.write(\"asus,120000\\n\")\n",
        "        file.write(\"Apple,90000\\n\")\n",
        "        file.write(\"HP,85000\\n\")\n",
        "    with open(\"products.txt\",\"r\") as file:\n",
        "         lines = file.readlines()\n",
        "\n",
        "    products = []\n",
        "    for line in lines:\n",
        "        line = line.strip()\n",
        "        name, price = line.split(\",\")\n",
        "        price = int(price)\n",
        "        product = {\"name\": name, \"price\": price}\n",
        "        products.append(product)\n",
        "\n",
        "    user_input = input(\"Enter a letter\")\n",
        "    found_product = []\n",
        "\n",
        "    if not user_input:\n",
        "       print(\"Please Enter a letter:\")\n",
        "    else:\n",
        "       search_letter = user_input[-1].lower()\n",
        "\n",
        "       for product in products:\n",
        "          if product[\"name\"].lower().endswith(search_letter):\n",
        "            found_product.append(product)\n",
        "\n",
        "       if found_product:\n",
        "          print(f\"{'The product ending with '}{user_input[-1]}\")\n",
        "       for product in found_product:\n",
        "          print(f\"- {product['name']} {'worth rupees of ₹'}{product['price']}\")\n",
        "          break\n",
        "       else:\n",
        "          print(f\"{'No product is found with '}{user_input[-1]}\")\n",
        "except ValueError:\n",
        "    print(\"Enter a valid number \")"
      ],
      "metadata": {
        "colab": {
          "base_uri": "https://localhost:8080/"
        },
        "id": "qes1Sbp7iobh",
        "outputId": "77a04ca6-4426-4182-87ee-6b4a9a34e8d1"
      },
      "execution_count": null,
      "outputs": [
        {
          "output_type": "stream",
          "name": "stdout",
          "text": [
            "Enter a letterP\n",
            "The product ending with P\n",
            "- HP worth rupees of ₹85000\n"
          ]
        }
      ]
    },
    {
      "cell_type": "code",
      "source": [
        "with open(\"sentences.txt\",\"w\") as file:\n",
        "    file.write(\"You are awesome zoro I wish I could be as awesome as you \")\n",
        "with open(\"sentences.txt\",\"r\") as file:\n",
        "    line = file.read()\n",
        "    lower_case = line.lower()\n",
        "    word_list = lower_case.split()\n",
        "\n",
        "word_count = {}\n",
        "\n",
        "for word in word_list:\n",
        "   if word in word_count:\n",
        "      word_count[word] += 1\n",
        "   else:\n",
        "      word_count[word] = 1\n",
        "print(word_count)"
      ],
      "metadata": {
        "colab": {
          "base_uri": "https://localhost:8080/"
        },
        "id": "aDM9IwGIU5Vf",
        "outputId": "a3599e06-de9d-4c64-afb6-01b50b3abb1c"
      },
      "execution_count": null,
      "outputs": [
        {
          "output_type": "stream",
          "name": "stdout",
          "text": [
            "{'you': 2, 'are': 1, 'awesome': 2, 'zoro': 1, 'i': 2, 'wish': 1, 'could': 1, 'be': 1, 'as': 2}\n"
          ]
        }
      ]
    },
    {
      "cell_type": "code",
      "source": [
        "with open(\"students.txt\",\"w\") as file:\n",
        "     file.write(\"Luffy,570\\n\")\n",
        "     file.write(\"zoro,490\\n\")\n",
        "     file.write(\"sanji,290\\n\")\n",
        "     file.write(\"nami,555\\n\")\n",
        "with open(\"students.txt\",\"r\") as file:\n",
        "     lines = file.readlines()\n",
        "\n",
        "for student in lines:\n",
        "     student = student.strip()\n",
        "     name, mark = student.split(\",\")\n",
        "     mark = int(mark)\n",
        "\n",
        "     if mark > 300:\n",
        "        print(f\"{name} {'you passed with the mark '}{mark}\")\n",
        "     else:\n",
        "        print(f\"{name} {'you failed with the mark '}{mark}\")"
      ],
      "metadata": {
        "colab": {
          "base_uri": "https://localhost:8080/"
        },
        "id": "Q8Gy60Ilcew_",
        "outputId": "f21da587-3cc4-4706-dc82-e061d9dd4bf8"
      },
      "execution_count": null,
      "outputs": [
        {
          "output_type": "stream",
          "name": "stdout",
          "text": [
            "Luffy you passed with the mark 570\n",
            "zoro you passed with the mark 490\n",
            "sanji you failed with the mark 290\n",
            "nami you passed with the mark 555\n"
          ]
        }
      ]
    },
    {
      "cell_type": "code",
      "source": [
        "with open(\"products.txt\",\"w\") as file:\n",
        "     file.write(\"buds,4999\\n\")\n",
        "     file.write(\"ram,9000\\n\")\n",
        "     file.write(\"ssd,7000\\n\")\n",
        "with open(\"products.txt\",\"r\") as file:\n",
        "     lines = file.readlines()\n",
        "for product in lines:\n",
        "    product = product.strip()\n",
        "    name, price = product.split(\",\")\n",
        "    price = int(price)\n",
        "\n",
        "    if price > 5000:\n",
        "        print(f\"{name} {'The product cost of ₹'}{price}\")\n",
        "    else:\n",
        "        print(f\"{name} {'The product cost less then ₹5000'}\")"
      ],
      "metadata": {
        "colab": {
          "base_uri": "https://localhost:8080/"
        },
        "id": "QCyOeCDHfRkE",
        "outputId": "e570eac0-b837-455e-a2d9-87719ff0dcb5"
      },
      "execution_count": null,
      "outputs": [
        {
          "output_type": "stream",
          "name": "stdout",
          "text": [
            "buds The product cost less then ₹5000\n",
            "ram The product cost of ₹9000\n",
            "ssd The product cost of ₹7000\n"
          ]
        }
      ]
    },
    {
      "cell_type": "code",
      "source": [
        "with open(\"sentences.txt\",\"w\") as file:\n",
        "     file.write(\" you are always wait for me zoro I like you so much with for me\")\n",
        "with open(\"sentences.txt\",\"r\") as file:\n",
        "     line = file.read()\n",
        "     lower_case = line.lower()\n",
        "     word_list = lower_case.split()\n",
        "\n",
        "     total_words = sum(c.isalpha() for c in word_list)\n",
        "     print(total_words)\n",
        "\n",
        "word_count = {}\n",
        "\n",
        "for word in word_list:\n",
        "    if word in word_count:\n",
        "       word_count[word] += 1\n",
        "    else:\n",
        "       word_count[word] = 1\n",
        "\n",
        "maximum_word = sorted(word_count, reverse=True)\n",
        "print(\"The maximum word which is repeated uses is :\")\n",
        "print(f\"- {maximum_word[0]}, {maximum_word[1]} and {maximum_word[2]}\")"
      ],
      "metadata": {
        "colab": {
          "base_uri": "https://localhost:8080/"
        },
        "id": "sMrLUt1mj_pX",
        "outputId": "4c575a51-b23a-42d3-d165-3da3424bbc81"
      },
      "execution_count": null,
      "outputs": [
        {
          "output_type": "stream",
          "name": "stdout",
          "text": [
            "15\n",
            "The maximum word which is repeated uses is :\n",
            "- zoro, you and with\n"
          ]
        }
      ]
    },
    {
      "cell_type": "code",
      "source": [
        "try:\n",
        "    with open(\"sentences.txt\",\"w\") as file:\n",
        "        file.write(\" You are awesome bro I love to be with you \")\n",
        "    with open(\"sentences.txt\",\"r\") as file:\n",
        "        lines = file.read()\n",
        "        lower_case = lines.lower()\n",
        "        word_list = lower_case.split()\n",
        "\n",
        "    user_input = input(\"Enter a letter\");\n",
        "\n",
        "    for word in word_list:\n",
        "        if user_input.lower() in word_list:\n",
        "    print(f\"{"
      ],
      "metadata": {
        "id": "jQ3Urj_rp7h9"
      },
      "execution_count": null,
      "outputs": []
    },
    {
      "cell_type": "code",
      "source": [
        "with open(\"students.txt\",\"w\") as file:\n",
        "     file.write(\"luffy,570\\n\")\n",
        "     file.write(\"zoro,555\\n\")\n",
        "     file.write(\"nami,532\\n\")\n",
        "     file.write(\"brook,399\\n\")\n",
        "with open(\"students.txt\",\"r\") as file:\n",
        "     lists = file.readlines()\n",
        "for student in lists:\n",
        "     student = student.strip()\n",
        "     name, mark = student.split(\",\")\n",
        "     mark = int(mark)\n",
        "\n",
        "     if mark > 400:\n",
        "        print(f\"{name} {'you are passed with the mark of '}{mark}\")\n",
        "     else:\n",
        "        print(f\"{name} {'you are failed with the mark of '}{mark}\")"
      ],
      "metadata": {
        "colab": {
          "base_uri": "https://localhost:8080/"
        },
        "id": "gbYhMu-7bkST",
        "outputId": "9f1f3032-4483-4cc9-935f-df76577f9a65"
      },
      "execution_count": null,
      "outputs": [
        {
          "output_type": "stream",
          "name": "stdout",
          "text": [
            "luffy you are passed with the mark of 570\n",
            "zoro you are passed with the mark of 555\n",
            "nami you are passed with the mark of 532\n",
            "brook you are failed with the mark of 399\n"
          ]
        }
      ]
    },
    {
      "cell_type": "code",
      "source": [
        "with open(\"products.txt\",\"w\") as file:\n",
        "     file.write(\"watch,6000\\n\")\n",
        "     file.write(\"headphone,7000\\n\")\n",
        "     file.write(\"SSD card,5999\\n\")\n",
        "     file.write(\"RAM,5500\\n\")\n",
        "with open(\"products.txt\",\"r\") as file:\n",
        "     list = file.readlines()\n",
        "\n",
        "for product in list:\n",
        "    product = product.strip()\n",
        "    name, price = product.split(\",\")\n",
        "    price = int(price)\n",
        "\n",
        "    if price >= 5900:\n",
        "       print(f\"{name} {'price of ₹'} {price}\")\n",
        "    else:\n",
        "       print(f\"{name} {'The product cost less then ₹6000'}\")"
      ],
      "metadata": {
        "colab": {
          "base_uri": "https://localhost:8080/"
        },
        "id": "B1Y1CT-nedMb",
        "outputId": "47912e28-2249-4203-ccf4-72a4676fcffd"
      },
      "execution_count": null,
      "outputs": [
        {
          "output_type": "stream",
          "name": "stdout",
          "text": [
            "watch price of ₹ 6000\n",
            "headphone price of ₹ 7000\n",
            "SSD card price of ₹ 5999\n",
            "RAM The product cost less then ₹6000\n"
          ]
        }
      ]
    },
    {
      "cell_type": "code",
      "source": [
        "try:\n",
        "    with open(\"sentence.txt\",\"w\") as file:\n",
        "         file.write(\" I love onepiece too much I can do anything for onepiece and allmost everyone will accept that onepiece is greatest friction that ever written in human history\")\n",
        "    with open(\"sentence.txt\",\"r\") as file:\n",
        "        line = file.read()\n",
        "        lower_case = line.lower()\n",
        "        word_list = lower_case.split()\n",
        "        user_input = input(\"Enter a Letter: \")\n",
        "\n",
        "    search_letter = user_input.lower()\n",
        "    found_words = []\n",
        "\n",
        "    for word in word_list:\n",
        "       if word and word[-1].endswith(search_letter):\n",
        "          found_words.append(word)\n",
        "\n",
        "    if found_words:\n",
        "       print(f\"{'Words ending with'} '{user_input}' is :\")\n",
        "       for word in found_words:\n",
        "         print(word)\n",
        "    else:\n",
        "       print(f\"{'There are no words ended with'} {user_input}\")\n",
        "except ValueError:\n",
        "   print(\"Enter a valid Letter \")"
      ],
      "metadata": {
        "colab": {
          "base_uri": "https://localhost:8080/"
        },
        "id": "iWHhAmA8pDDE",
        "outputId": "fd63b240-7ad3-4fe7-93ff-6f48e2ee778d"
      },
      "execution_count": null,
      "outputs": [
        {
          "output_type": "stream",
          "name": "stdout",
          "text": [
            "Enter a Letter: E\n",
            "Words ending with 'E' is :\n",
            "love\n",
            "onepiece\n",
            "onepiece\n",
            "everyone\n",
            "onepiece\n"
          ]
        }
      ]
    },
    {
      "cell_type": "markdown",
      "source": [
        "# New Section"
      ],
      "metadata": {
        "id": "BuMnRO4hxwcz"
      }
    },
    {
      "cell_type": "code",
      "source": [
        "with open(\"sentences.txt\",\"w\") as file:\n",
        "     file.write(\" I love onepiece too much I can do anything for onepiece and allmost everyone will accept that onepiece is greatest friction that ever written in human history\")\n",
        "with open(\"sentences.txt\",\"r\") as file:\n",
        "     list = file.read()\n",
        "     lower_case = list.lower()\n",
        "     word_list = lower_case.split()\n",
        "\n",
        "word_count = {}\n",
        "for word in word_list:\n",
        "    if word in word_count:\n",
        "       word_count[word] += 1\n",
        "    else:\n",
        "       word_count[word] = 1\n",
        "\n",
        "duplicate_word = []\n",
        "\n",
        "print(\"The word which is used two or more times are: \")\n",
        "for word, count in word_count.items():\n",
        "    if count >= 2:\n",
        "       print(f\"{word} {'and used'} {count}\")\n",
        "       duplicate_word.append(word)\n",
        "with open(\"duplicate.txt\",\"w\") as file:\n",
        "     for word in duplicate_word:\n",
        "         file.write(word + \"\\n\")\n",
        "with open(\"duplicate.txt\",\"r\") as file:\n",
        "     word = file.read()\n",
        "print(word)"
      ],
      "metadata": {
        "colab": {
          "base_uri": "https://localhost:8080/"
        },
        "id": "Ftf1Ig5Skb9E",
        "outputId": "408a5232-8f5f-45af-a382-440b805a0633"
      },
      "execution_count": null,
      "outputs": [
        {
          "output_type": "stream",
          "name": "stdout",
          "text": [
            "The word which is used two or more times are: \n",
            "i and used 2\n",
            "onepiece and used 3\n",
            "that and used 2\n",
            "i\n",
            "onepiece\n",
            "that\n",
            "\n"
          ]
        }
      ]
    },
    {
      "cell_type": "code",
      "source": [
        "with open(\"sentence.txt\",\"w\") as file:\n",
        "     file.write(\"I love you zoro can we be friend for forever zoro and I best friend for a long time zoro you are awesome dude\")\n",
        "with open(\"sentence.txt\",\"r\") as file:\n",
        "     line = file.read()\n",
        "     lower_case = line.lower()\n",
        "     word_list = lower_case.split()\n",
        "\n",
        "word_count = {}\n",
        "\n",
        "for word in word_list:\n",
        "  if word in word_count:\n",
        "     word_count[word] += 1\n",
        "  else:\n",
        "     word_count[word] = 1\n",
        "print(\"The most used words are : \")\n",
        "\n",
        "most_used_word = sorted(word_count.items(), key=lambda x: x[1], reverse=True)\n",
        "\n",
        "for word, count in most_used_word[:3]:\n",
        "    print(f\"- '{word}' used {count} times\")"
      ],
      "metadata": {
        "colab": {
          "base_uri": "https://localhost:8080/"
        },
        "id": "1bwhOI2S18TM",
        "outputId": "ccacc033-97a1-426f-9120-499e982fbe26"
      },
      "execution_count": null,
      "outputs": [
        {
          "output_type": "stream",
          "name": "stdout",
          "text": [
            "The most used words are : \n",
            "- 'zoro' used 3 times\n",
            "- 'i' used 2 times\n",
            "- 'you' used 2 times\n"
          ]
        }
      ]
    },
    {
      "cell_type": "code",
      "source": [
        "with open(\"student.txt\",\"w\") as file:\n",
        "     file.write(\"luffy,555\\n\")\n",
        "     file.write(\"naruto,490\\n\")\n",
        "     file.write(\"ichigo,390\\n\")\n",
        "     file.write(\"goku,249\\n\")\n",
        "with open(\"student.txt\",\"r\") as file:\n",
        "     list = file.readlines()\n",
        "\n",
        "for student in list:\n",
        "    student = student.strip()\n",
        "    name, mark = student.split(\",\")\n",
        "    mark = int(mark)\n",
        "\n",
        "    if mark > 550:\n",
        "       print(f\"{name} {'You got A+ Grade with the mark of '}{mark}\")\n",
        "    elif mark > 450:\n",
        "       print(f\"{name} {'You got A Grade with the mark of '}{mark}\")\n",
        "    elif mark > 350:\n",
        "       print(f\"{name} {'You got B Grade with the mark of '}{mark}\")\n",
        "    else:\n",
        "       print(f\"{name} {'You failed in exam you only got mark of '}{mark}\")"
      ],
      "metadata": {
        "colab": {
          "base_uri": "https://localhost:8080/"
        },
        "id": "EZ-pX84PYXoc",
        "outputId": "a42e1617-51c4-494b-8a84-935a181bedbf"
      },
      "execution_count": null,
      "outputs": [
        {
          "output_type": "stream",
          "name": "stdout",
          "text": [
            "luffy You got A+ Grade with the mark of 555\n",
            "naruto You got A Grade with the mark of 490\n",
            "ichigo You got B Grade with the mark of 390\n",
            "goku You failed in exam you only got mark of 249\n"
          ]
        }
      ]
    },
    {
      "cell_type": "code",
      "source": [
        "def get_bonus_employees(min_salary):\n",
        "    with open(\"employees.txt\",\"r\") as file:\n",
        "         lines = file.readlines()\n",
        "    print(f\"{'The employee who get more than ₹'}{min_salary} are :\")\n",
        "    for line in lines:\n",
        "        line = line.strip()\n",
        "        name, salary = line.split(\",\")\n",
        "        salary = int(salary)\n",
        "\n",
        "        if salary > min_salary:\n",
        "           print(f\"- {name} with {salary}\")\n",
        "\n",
        "with open(\"employees.txt\",\"w\") as file:\n",
        "     file.write(\"luffy,70000\\n\")\n",
        "     file.write(\"nami,80000\\n\")\n",
        "     file.write(\"robin,75000\\n\")\n",
        "     file.write(\"zoro,69000\\n\")\n",
        "     file.write(\"sanji,38000\\n\")\n",
        "\n",
        "get_bonus_employees(69500)\n",
        "\n",
        "with open(\"get_bonus_employees.txt\",\"w\") as file:\n",
        "     file.write(\"luffy,70000\\n\")\n",
        "     file.write(\"nami,80000\\n\")\n",
        "     file.write(\"robin,75000\\n\")\n",
        "with open(\"get_bonus_employees.txt\",\"r\") as file:\n",
        "     list = file.readlines()"
      ],
      "metadata": {
        "colab": {
          "base_uri": "https://localhost:8080/"
        },
        "id": "VFtzAWWw45pn",
        "outputId": "f61fc5dd-cc21-447e-912f-ccdda5717aea"
      },
      "execution_count": null,
      "outputs": [
        {
          "output_type": "stream",
          "name": "stdout",
          "text": [
            "The employee who get more than ₹69500 are :\n",
            "- luffy with 70000\n",
            "- nami with 80000\n",
            "- robin with 75000\n"
          ]
        }
      ]
    },
    {
      "cell_type": "code",
      "source": [
        "with open(\"sentences.txt\",\"w\") as file:\n",
        "     file.write(\" I love you so much zoro I wish we will friends forever\")\n",
        "with open(\"sentences.txt\",\"r\") as file:\n",
        "     lines = file.read()\n",
        "     lower_case = lines.lower()\n",
        "     word_list = lower_case.split()\n",
        "     long_word = [word for word in word_list if len(word) >= 4]\n",
        "     print(\"The words which contains 4 or more letters are :\")\n",
        "     print(long_word)\n",
        "with open(\"filtered_words.txt\",\"w\") as file:\n",
        "     file.write(\"long_word\")"
      ],
      "metadata": {
        "colab": {
          "base_uri": "https://localhost:8080/"
        },
        "id": "_4rNVthyAMDw",
        "outputId": "019673dc-cb11-4fd2-eebe-25e7f03ac3e5"
      },
      "execution_count": null,
      "outputs": [
        {
          "output_type": "stream",
          "name": "stdout",
          "text": [
            "The words which contains 4 or more letters are :\n",
            "['love', 'much', 'zoro', 'wish', 'will', 'friends', 'forever']\n"
          ]
        }
      ]
    },
    {
      "cell_type": "code",
      "source": [
        "try:\n",
        "    with open(\"products.txt\",\"w\") as file:\n",
        "         file.write(\"mouse,1500\\n\")\n",
        "         file.write(\"keywords,2800\\n\")\n",
        "         file.write(\"monitor,9000\\n\")\n",
        "         file.write(\"charger,3000\\n\")\n",
        "         file.write(\"speaker,4000\\n\")\n",
        "    with open(\"products.txt\",\"r\") as file:\n",
        "         lists = file.readlines()\n",
        "         user_input_min = int(input(\"Enter the minimum Range: \"))\n",
        "         user_input_max = int(input(\" Enter the maximum Range: \"))\n",
        "    for product in lists:\n",
        "        product = product.strip()\n",
        "        name, price = product.split(\",\")\n",
        "        price = int(price)\n",
        "\n",
        "        if price in range(user_input_min, user_input_max):\n",
        "           print(f\"{name} worth of ₹{price}\")\n",
        "        else:\n",
        "           print(f\"{'There are no products between ₹'}{user_input_max} and ₹{user_input_min}\")\n",
        "except ValueError:\n",
        "    print(\"Enter a valid number\")"
      ],
      "metadata": {
        "colab": {
          "base_uri": "https://localhost:8080/"
        },
        "id": "-c8_h3-xCxW-",
        "outputId": "0ca10846-1702-46af-e85b-a563e9b059a4"
      },
      "execution_count": null,
      "outputs": [
        {
          "output_type": "stream",
          "name": "stdout",
          "text": [
            "Enter the minimum Range: U\n",
            "Enter a valid number\n"
          ]
        }
      ]
    },
    {
      "cell_type": "code",
      "source": [
        "with open(\"sentences.txt\",\"w\") as file:\n",
        "     file.write(\" I love you so much I would like to ensure that I will be here for you everytime\")\n",
        "with open(\"sentences.txt\",\"r\") as file:\n",
        "     line = file.read()\n",
        "     lower_case = line.lower()\n",
        "     word_list = lower_case.split()\n",
        "\n",
        "word_count = {}\n",
        "\n",
        "for word in word_list:\n",
        "   if word in word_count:\n",
        "      word_count[word] += 1\n",
        "   else:\n",
        "      word_count[word] = 1\n",
        "print(\"The words are :\")\n",
        "\n",
        "most_used_words = sorted(word_count.items(), key=lambda x: x[1], reverse=True)\n",
        "\n",
        "for word, count in most_used_words:\n",
        "    print(f\"{'lenght-'}{len(word)} used {count} times\")\n",
        "\n",
        "with open(\"para.txt\",\"w\") as file:\n",
        "     for line in most_used_words:\n",
        "         file.write(\"len(word) + count\")"
      ],
      "metadata": {
        "colab": {
          "base_uri": "https://localhost:8080/"
        },
        "id": "eGxr2DmMHtG9",
        "outputId": "01fdeeae-d3f3-4707-d937-be29869bacb0"
      },
      "execution_count": null,
      "outputs": [
        {
          "output_type": "stream",
          "name": "stdout",
          "text": [
            "The words are :\n",
            "lenght-1 used 3 times\n",
            "lenght-3 used 2 times\n",
            "lenght-4 used 1 times\n",
            "lenght-2 used 1 times\n",
            "lenght-4 used 1 times\n",
            "lenght-5 used 1 times\n",
            "lenght-4 used 1 times\n",
            "lenght-2 used 1 times\n",
            "lenght-6 used 1 times\n",
            "lenght-4 used 1 times\n",
            "lenght-4 used 1 times\n",
            "lenght-2 used 1 times\n",
            "lenght-4 used 1 times\n",
            "lenght-3 used 1 times\n",
            "lenght-9 used 1 times\n"
          ]
        }
      ]
    },
    {
      "cell_type": "code",
      "source": [
        "with open(\"sentences.txt\",\"w\") as file:\n",
        "     file.write(\"I love you zoro\\n\")\n",
        "     file.write(\"zoro you are my best friend\\n\")\n",
        "     file.write(\"zoro and I are most brave and hardworking\\n\")\n",
        "     file.write(\"Do you know zoro how much I admire you\\n\")\n",
        "     file.write(\"You are my best friend and you will best friend for forever\\n\")\n",
        "with open(\"sentences.txt\",\"r\") as file:\n",
        "      lines = file.readlines()\n",
        "      lower_case_lines = [line.lower().strip() for line in lines]\n",
        "      user_input = input(\"Enter a word: \")\n",
        "\n",
        "      search_word = user_input.lower()\n",
        "\n",
        "word_list = []\n",
        "for sentence in lower_case_lines:\n",
        "    words = sentence.split()\n",
        "    word_list.extend(words)\n",
        "\n",
        "word_count = 0\n",
        "for word in word_list:\n",
        "    if word == search_word:\n",
        "       word_count += 1\n",
        "\n",
        "if word_count >= 1:\n",
        "   print(f\"{user_input} used in {word_count} times in sentences\")\n",
        "else:\n",
        "   print(f\"{user_input} is not found in sentences \")"
      ],
      "metadata": {
        "id": "eHUbMvkuPXOu",
        "colab": {
          "base_uri": "https://localhost:8080/"
        },
        "outputId": "391c4d07-d67e-422a-a358-67f956b6dbc1"
      },
      "execution_count": null,
      "outputs": [
        {
          "output_type": "stream",
          "name": "stdout",
          "text": [
            "Enter a word: admire\n",
            "admire used in 1 times in sentences\n"
          ]
        }
      ]
    }
  ],
  "metadata": {
    "colab": {
      "provenance": [],
      "authorship_tag": "ABX9TyOmUnGCJAMkxhYEMIKPNhge",
      "include_colab_link": true
    },
    "kernelspec": {
      "display_name": "Python 3",
      "name": "python3"
    },
    "language_info": {
      "name": "python"
    }
  },
  "nbformat": 4,
  "nbformat_minor": 0
}